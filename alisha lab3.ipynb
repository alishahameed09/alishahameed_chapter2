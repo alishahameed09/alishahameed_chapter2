{
 "cells": [
  {
   "cell_type": "code",
   "execution_count": 4,
   "metadata": {},
   "outputs": [
    {
     "name": "stdout",
     "output_type": "stream",
     "text": [
      "enter the radius(in meter):0.5\n",
      "enter the angular speed(in radian/second):10\n",
      "radius 0.5meter\n",
      "angularspeed 10.0radian/second\n",
      "v 5.0m/s\n"
     ]
    }
   ],
   "source": [
    "# program 1\n",
    "radius=float((input(\"enter the radius(in meter):\")))\n",
    "angularspeed=float(input(\"enter the angular speed(in radian/second):\"))\n",
    "v=radius*angularspeed\n",
    "print(\"radius\",str(radius)+\"meter\")\n",
    "print(\"angularspeed\",str(angularspeed)+\"radian/second\")\n",
    "print('v',str(v)+\"m/s\")\n"
   ]
  },
  {
   "cell_type": "code",
   "execution_count": 3,
   "metadata": {},
   "outputs": [
    {
     "name": "stdout",
     "output_type": "stream",
     "text": [
      "enter the radius(in meter):1\n",
      "enter the angular speed(in radian/second):10\n",
      "radius 1.0meter\n",
      "angularspeed 10.0radian/second\n",
      "v 10.0m/s\n"
     ]
    }
   ],
   "source": [
    "# program 1\n",
    "radius=float((input(\"enter the radius(in meter):\")))\n",
    "angularspeed=float(input(\"enter the angular speed(in radian/second):\"))\n",
    "v=radius*angularspeed\n",
    "print(\"radius\",str(radius)+\"meter\")\n",
    "print(\"angularspeed\",str(angularspeed)+\"radian/second\")\n",
    "print('v',str(v)+\"m/s\")\n"
   ]
  },
  {
   "cell_type": "code",
   "execution_count": 2,
   "metadata": {},
   "outputs": [
    {
     "name": "stdout",
     "output_type": "stream",
     "text": [
      "enter the radius(in meter):2\n",
      "enter the angular speed(in radian/second):10\n",
      "radius 2.0meter\n",
      "angularspeed 10.0radian/second\n",
      "v 20.0m/s\n"
     ]
    }
   ],
   "source": [
    "# program 1\n",
    "radius=float((input(\"enter the radius(in meter):\")))\n",
    "angularspeed=float(input(\"enter the angular speed(in radian/second):\"))\n",
    "v=radius*angularspeed\n",
    "print(\"radius\",str(radius)+\"meter\")\n",
    "print(\"angularspeed\",str(angularspeed)+\"radian/second\")\n",
    "print('v',str(v)+\"m/s\")\n"
   ]
  },
  {
   "cell_type": "code",
   "execution_count": 1,
   "metadata": {},
   "outputs": [
    {
     "name": "stdout",
     "output_type": "stream",
     "text": [
      "enter the radius(in cm):5\n",
      "enter the angular speed(in rev/min):5000\n",
      "radius 5.0m\n",
      "angularspeed 5000.0rad/sec\n",
      "v 25000.0m/s\n"
     ]
    }
   ],
   "source": [
    "#program2\n",
    "radius=float((input('enter the radius(in cm):')))\n",
    "angularspeed=float(input('enter the angular speed(in rev/min):'))\n",
    "v=radius*angularspeed\n",
    "print('radius',str(radius)+\"m\")\n",
    "print('angularspeed',str(angularspeed)+'rad/sec')\n",
    "print('v',str(v)+\"m/s\")"
   ]
  },
  {
   "cell_type": "code",
   "execution_count": 5,
   "metadata": {},
   "outputs": [
    {
     "name": "stdout",
     "output_type": "stream",
     "text": [
      "enter the radius(in cm):10\n",
      "enter the angular speed(in rev/min):5000\n",
      "radius 10.0m\n",
      "angularspeed 5000.0rad/sec\n",
      "v 50000.0m/s\n"
     ]
    }
   ],
   "source": [
    "#program2\n",
    "radius=float((input('enter the radius(in cm):')))\n",
    "angularspeed=float(input('enter the angular speed(in rev/min):'))\n",
    "v=radius*angularspeed\n",
    "print('radius',str(radius)+\"m\")\n",
    "print('angularspeed',str(angularspeed)+'rad/sec')\n",
    "print('v',str(v)+\"m/s\")"
   ]
  },
  {
   "cell_type": "code",
   "execution_count": 4,
   "metadata": {},
   "outputs": [
    {
     "name": "stdout",
     "output_type": "stream",
     "text": [
      "entrer the radius (in m):0.3\n",
      "enter the linear velocity(in m/s):10\n",
      "angular velocity will be is : 33.333333333333336rad/sec\n"
     ]
    }
   ],
   "source": [
    "#program3\n",
    "radius=float(input(\"entrer the radius (in m):\"))\n",
    "linearvelocity=float(input(\"enter the linear velocity(in m/s):\"))\n",
    "angularvelocity=linearvelocity/radius\n",
    "print(\"angular velocity will be is :\" ,str(angularvelocity) + \"rad/sec\")\n",
    "                   \n",
    "\n",
    "                     \n",
    "                     "
   ]
  },
  {
   "cell_type": "code",
   "execution_count": 5,
   "metadata": {},
   "outputs": [
    {
     "name": "stdout",
     "output_type": "stream",
     "text": [
      "enter the radius (in m):0.25\n",
      "enter the linear speed (in m/s):10\n",
      "angular velocity will be is : 40.0rad/sec\n"
     ]
    }
   ],
   "source": [
    "#program4\n",
    "radius=float(input(\"enter the radius (in m):\"))\n",
    "linearspeed=float(input(\"enter the linear speed (in m/s):\"))\n",
    "angularvelocity=linearspeed/radius\n",
    "print(\"angular velocity will be is :\" ,str(angularvelocity) + \"rad/sec\")"
   ]
  },
  {
   "cell_type": "code",
   "execution_count": 6,
   "metadata": {},
   "outputs": [
    {
     "name": "stdout",
     "output_type": "stream",
     "text": [
      "enter the radius (in m):0.2\n",
      "enter the angular speed (in rad/sec):12.56\n",
      "enter the time (in sec):10\n",
      "distance will be : 25.120000000000005m\n"
     ]
    }
   ],
   "source": [
    "#program5\n",
    "radius=float(input(\"enter the radius (in m):\"))\n",
    "angularspeed=float(input(\"enter the angular speed (in rad/sec):\"))\n",
    "t=float(input(\"enter the time (in sec):\"))\n",
    "distance=angularspeed*radius*t\n",
    "print(\"distance will be :\" ,str(distance) + \"m\")\n",
    "                   "
   ]
  },
  {
   "cell_type": "code",
   "execution_count": 2,
   "metadata": {},
   "outputs": [
    {
     "name": "stdout",
     "output_type": "stream",
     "text": [
      "enter the velocity (in miles/hour):50\n",
      "enter the acceleration (in miles/hour**2):10\n",
      "enter the time (in hours):2\n",
      "car travels from the point in the next 2 hours :  30.0miles\n"
     ]
    }
   ],
   "source": [
    "#program6\n",
    "velocity=float(input(\"enter the velocity (in miles/hour):\"))\n",
    "acceleration=float(input(\"enter the acceleration (in miles/hour**2):\"))\n",
    "time=float(input(\"enter the time (in hours):\"))\n",
    "distance=velocity-acceleration*time\n",
    "print(\"car travels from the point in the next 2 hours : \" , str(distance) + \"miles\")\n"
   ]
  },
  {
   "cell_type": "code",
   "execution_count": 2,
   "metadata": {},
   "outputs": [
    {
     "name": "stdout",
     "output_type": "stream",
     "text": [
      "enter initial velocity (in ft/s):0\n",
      "enter height (in ft):100\n",
      "enter the acceleration due to gravity (in ft/s^2):32\n",
      "velocity of the stone will be :  80.0ft/s\n"
     ]
    }
   ],
   "source": [
    "#program7\n",
    "from math import sqrt\n",
    "u=float(input(\"enter initial velocity (in ft/s):\"))\n",
    "s=float(input(\"enter height (in ft):\"))\n",
    "a=float(input(\"enter the acceleration due to gravity (in ft/s^2):\"))\n",
    "v=sqrt(2*a*s+u**2)\n",
    "print(\"velocity of the stone will be : \" ,str(v) + \"ft/s\")"
   ]
  },
  {
   "cell_type": "code",
   "execution_count": null,
   "metadata": {},
   "outputs": [],
   "source": []
  }
 ],
 "metadata": {
  "kernelspec": {
   "display_name": "Python 3",
   "language": "python",
   "name": "python3"
  },
  "language_info": {
   "codemirror_mode": {
    "name": "ipython",
    "version": 3
   },
   "file_extension": ".py",
   "mimetype": "text/x-python",
   "name": "python",
   "nbconvert_exporter": "python",
   "pygments_lexer": "ipython3",
   "version": "3.7.3"
  }
 },
 "nbformat": 4,
 "nbformat_minor": 2
}
