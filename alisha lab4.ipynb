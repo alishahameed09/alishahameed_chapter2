{
 "cells": [
  {
   "cell_type": "code",
   "execution_count": 4,
   "metadata": {},
   "outputs": [
    {
     "name": "stdout",
     "output_type": "stream",
     "text": [
      "enter the value of a:5\n",
      "enter the value of b:25\n",
      "enter the value of c:30\n",
      "the value of x1 is :  -12.5\n",
      "the value of x2 is :  -37.5\n"
     ]
    }
   ],
   "source": [
    "#question 1\n",
    "from math import sqrt\n",
    "a=int(input(\"enter the value of a:\"))\n",
    "b=int(input(\"enter the value of b:\"))\n",
    "c=int(input(\"enter the value of c:\"))\n",
    "if 2*a == 0:\n",
    "    print(\"this equation can not solve because the denominator can't be zero\")\n",
    "else:\n",
    "    x1=(-b + sqrt(b**2 - 4*a*c)/2*a)\n",
    "    x2=(-b - sqrt(b**2 - 4*a*c)/2*a)\n",
    "    print(\"the value of x1 is : \" ,x1)\n",
    "    print(\"the value of x2 is : \" ,x2)\n",
    "    "
   ]
  },
  {
   "cell_type": "code",
   "execution_count": 6,
   "metadata": {},
   "outputs": [
    {
     "name": "stdout",
     "output_type": "stream",
     "text": [
      "enter the value of first term : 12\n",
      "enter the value of common difference : 2\n",
      "enter the value of nth term : 35\n",
      "the nth value of the given sequence is :  80\n",
      "do you want to continue yes or no ? : yes\n",
      "enter the value of next nth term : 45\n",
      "the next nth term of the sequence will be :  100\n"
     ]
    }
   ],
   "source": [
    "#question 2\n",
    "a1=int(input(\"enter the value of first term : \"))\n",
    "d=int(input(\"enter the value of common difference : \"))\n",
    "n=int(input(\"enter the value of nth term : \"))\n",
    "an=a1 + (n-1)*d\n",
    "print(\"the nth value of the given sequence is : \" ,an)\n",
    "x=str(input(\"do you want to continue yes or no ? : \"))\n",
    "if x=='yes':\n",
    "    n2=int(input(\"enter the value of next nth term : \"))\n",
    "    a2=a1 + (n2-1)*d\n",
    "    print(\"the next nth term of the sequence will be : \",a2)\n",
    "else:\n",
    "    print(\"thank you\")\n"
   ]
  },
  {
   "cell_type": "code",
   "execution_count": 7,
   "metadata": {},
   "outputs": [
    {
     "name": "stdout",
     "output_type": "stream",
     "text": [
      "enter your favourite color : black\n",
      "the string is not palindrome\n"
     ]
    }
   ],
   "source": [
    "\n",
    "#question 3\n",
    "x=input(\"enter your favourite color : \")\n",
    "x=x.casefold()\n",
    "y=reversed(x)\n",
    "if list(x) == list(y):\n",
    "    print(\"the string is palindrome\")\n",
    "else:\n",
    "    print(\"the string is not palindrome\")"
   ]
  },
  {
   "cell_type": "code",
   "execution_count": 2,
   "metadata": {},
   "outputs": [
    {
     "name": "stdout",
     "output_type": "stream",
     "text": [
      "*************************************\n",
      "Marks sheet No   00225155-0\n",
      "Group            PRE-ENGINEERING\n",
      "Roll No          4567\n",
      "Enrolment No     NFCF/SE/E-0044/2018\n",
      "Name             ALISHA HAMEED\n",
      "Father's Name    ABDUL HAMEED\n",
      "College          FAZAIA DEGREE COLLEGE\n",
      "****************************************\n",
      "enter the obtained marks in english out of 100 : 61\n",
      "enter the obtained marks in maths out of 100 : 83\n",
      "enter the obtained marks in physics out of 100 : 68\n",
      "enter the obtained marks in urdu out of 100 : 83\n",
      "enter marks obtained in chemistry out of 100 : 58\n",
      "enter marks obtained in pst out of 50 : 40\n",
      "Marks obtained in English is :  61\n",
      "Marks obtained in Maths is :  83\n",
      "Marks obtained in Physics is :  68\n",
      "Marks obtained in Urdu is :  83\n",
      "Marks obtained in Chemistry is :  58\n",
      "Marks obtained in pst is :  40\n",
      "MAX MARKS :  550\n",
      "Secured Marks :  393\n",
      "over all percentage% is :  71.45454545454545\n",
      "A Grade\n"
     ]
    }
   ],
   "source": [
    "#question 4\n",
    "print(\"*************************************\")\n",
    "print(\"Marks sheet No   00225155-0\")\n",
    "print(\"Group            PRE-ENGINEERING\")\n",
    "print(\"Roll No          4567\")\n",
    "print(\"Enrolment No     NFCF/SE/E-0044/2018\")\n",
    "print(\"Name             ALISHA HAMEED\")\n",
    "print(\"Father's Name    ABDUL HAMEED\")\n",
    "print(\"College          FAZAIA DEGREE COLLEGE\")\n",
    "print(\"****************************************\")\n",
    "English=int(input(\"enter the obtained marks in english out of 100 : \"))\n",
    "Math=int(input(\"enter the obtained marks in maths out of 100 : \"))\n",
    "Physics=int(input(\"enter the obtained marks in physics out of 100 : \"))\n",
    "Urdu=int(input(\"enter the obtained marks in urdu out of 100 : \"))\n",
    "Chemistry=int(input(\"enter marks obtained in chemistry out of 100 : \"))\n",
    "Pakistan_studies=int(input(\"enter marks obtained in pst out of 50 : \"))\n",
    "print(\"Marks obtained in English is : \",English)\n",
    "print(\"Marks obtained in Maths is : \",Math)\n",
    "print(\"Marks obtained in Physics is : \",Physics)\n",
    "print(\"Marks obtained in Urdu is : \",Urdu)\n",
    "print(\"Marks obtained in Chemistry is : \",Chemistry)\n",
    "print(\"Marks obtained in pst is : \",Pakistan_studies)\n",
    "obtained_marks=English+Physics+Urdu+Chemistry+Pakistan_studies+Math\n",
    "total_marks=550\n",
    "print(\"MAX MARKS : \",total_marks)\n",
    "print(\"Secured Marks : \",obtained_marks)\n",
    "percentage=(obtained_marks/total_marks)*100\n",
    "print(\"over all percentage% is : \",percentage)\n",
    "if percentage>=80:\n",
    "    print(\"A-one Grade\")\n",
    "if percentage<80 and percentage>=70:\n",
    "    print(\"A Grade\")\n",
    "if percentage<70 and percentage>=60:\n",
    "    print(\"B Grade\")\n",
    "if percentage<60 and percentage>=50:\n",
    "    print(\"C Grade\")\n",
    "if percentage<50 and percentage>=40:\n",
    "    print(\"D Grade\")\n",
    "if percentage<40 and percentage>=30:\n",
    "    print(\"FAIL\")\n",
    "    \n",
    "\n"
   ]
  },
  {
   "cell_type": "code",
   "execution_count": 6,
   "metadata": {},
   "outputs": [
    {
     "name": "stdout",
     "output_type": "stream",
     "text": [
      "number of rows : 5\n",
      "number of columns : 5\n",
      "enter the entries row wise : \n",
      "1\n",
      "2\n",
      "3\n",
      "4\n",
      "5\n",
      "2\n",
      "4\n",
      "6\n",
      "8\n",
      "10\n",
      "3\n",
      "6\n",
      "9\n",
      "12\n",
      "15\n",
      "4\n",
      "8\n",
      "12\n",
      "16\n",
      "20\n",
      "5\n",
      "10\n",
      "15\n",
      "20\n",
      "25\n",
      "1 2 3 4 5 \n",
      "2 4 6 8 10 \n",
      "3 6 9 12 15 \n",
      "4 8 12 16 20 \n",
      "5 10 15 20 25 \n"
     ]
    }
   ],
   "source": [
    "#Question 5\n",
    "X=int(input(\"number of rows : \"))\n",
    "Y=int(input(\"number of columns : \"))\n",
    "matrix = []\n",
    "print(\"enter the entries row wise : \")\n",
    "for i in range(X):\n",
    "    a=[]\n",
    "    for j in range(Y):\n",
    "        a.append(int(input()))\n",
    "    matrix.append(a)\n",
    "for i in range(X):\n",
    "    for j in range(Y):\n",
    "        print(matrix[i][j], end =  \" \" )\n",
    "    print()\n",
    "    \n",
    "              \n"
   ]
  },
  {
   "cell_type": "code",
   "execution_count": 1,
   "metadata": {},
   "outputs": [
    {
     "name": "stdout",
     "output_type": "stream",
     "text": [
      "[4, 8, 9]\n",
      "[8, 16, 5]\n",
      "[6, 15, 7]\n"
     ]
    }
   ],
   "source": [
    "#question 6\n",
    "A=[[2,4,8],[3,9,2],[2,7,5]]\n",
    "B=[[2,4,1],[5,7,3],[4,8,2]]\n",
    "result=[[0,0,0],[0,0,0],[0,0,0]]\n",
    "for i in range(len(A)):\n",
    "    for j in range(len(A[0])):\n",
    "        result[i][j] = A[i][j] + B[i][j]\n",
    "for r in result:\n",
    "        print(r)                           \n",
    "    \n",
    "\n"
   ]
  },
  {
   "cell_type": "code",
   "execution_count": 2,
   "metadata": {},
   "outputs": [
    {
     "name": "stdout",
     "output_type": "stream",
     "text": [
      "[6, 15, 7]\n",
      "[6, 15, 7]\n",
      "[6, 15, 7]\n"
     ]
    }
   ],
   "source": [
    "#question 7\n",
    "A=[[5,7,2],[6,9,2],[2,7,4]]\n",
    "B=[[4,7,2],[5,8,1],[8,4,2]]\n",
    "result=[[0,0,0],[0,0,0],[0,0,0]]\n",
    "for i in range(len(A)):\n",
    "    for j in range(len(A[0])):\n",
    "        result[i][j]=A[i][j] * B[i][j]\n",
    "for i in result:\n",
    "    print(r)"
   ]
  },
  {
   "cell_type": "code",
   "execution_count": null,
   "metadata": {},
   "outputs": [],
   "source": []
  }
 ],
 "metadata": {
  "kernelspec": {
   "display_name": "Python 3",
   "language": "python",
   "name": "python3"
  },
  "language_info": {
   "codemirror_mode": {
    "name": "ipython",
    "version": 3
   },
   "file_extension": ".py",
   "mimetype": "text/x-python",
   "name": "python",
   "nbconvert_exporter": "python",
   "pygments_lexer": "ipython3",
   "version": "3.7.3"
  }
 },
 "nbformat": 4,
 "nbformat_minor": 2
}
