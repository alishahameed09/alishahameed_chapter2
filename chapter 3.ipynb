{
 "cells": [
  {
   "cell_type": "code",
   "execution_count": 3,
   "metadata": {},
   "outputs": [
    {
     "name": "stdout",
     "output_type": "stream",
     "text": [
      "enter the temperature in fahrenheit45\n",
      "the temperature in celsius is :  58.5 celsius\n"
     ]
    }
   ],
   "source": [
    "#problem 3.1\n",
    "fahr=int(input(\"enter the temperature in fahrenheit\"))\n",
    "cels=(fahr-32)*9/2\n",
    "print(\"the temperature in celsius is : \",cels,'celsius')"
   ]
  },
  {
   "cell_type": "code",
   "execution_count": 4,
   "metadata": {},
   "outputs": [
    {
     "name": "stdout",
     "output_type": "stream",
     "text": [
      "You can get your pension benefits!\n",
      "One of the top 5 baseball players, ever!\n",
      "You're dead ...\n",
      "I can escape.\n"
     ]
    }
   ],
   "source": [
    "#problem 3.2\n",
    "age = 64\n",
    "name = 'Alisha'\n",
    "hits = 30\n",
    "shield = 0\n",
    "north = 40\n",
    "south= 50\n",
    "east = 60\n",
    "west = 70\n",
    "if age > 62:\n",
    " print('You can get your pension benefits!')\n",
    "if name in ['Momal','Safia','Alisha','Sana']:\n",
    " print('One of the top 5 baseball players, ever!')\n",
    "if hits > 10 and shield == 0:\n",
    " print('You\\'re dead ...')\n",
    "if north or south or east or west:\n",
    " print('I can escape.') \n"
   ]
  },
  {
   "cell_type": "code",
   "execution_count": 5,
   "metadata": {},
   "outputs": [
    {
     "name": "stdout",
     "output_type": "stream",
     "text": [
      "Definitely not a leap year.\n",
      "You won!\n"
     ]
    }
   ],
   "source": [
    "#problem 3.3\n",
    "year = 2018\n",
    "lottery = 1000\n",
    "ticket = 1000\n",
    "if year % 4 == 0:\n",
    " print('Could be a leap year.')\n",
    "else:\n",
    " print('Definitely not a leap year.')\n",
    "if ticket == lottery:\n",
    " print('You won!')\n",
    "else: print('Better luck next time...') "
   ]
  },
  {
   "cell_type": "code",
   "execution_count": 6,
   "metadata": {},
   "outputs": [
    {
     "name": "stdout",
     "output_type": "stream",
     "text": [
      "Login: alisha\n",
      "User unknown.\n",
      "Done.\n"
     ]
    }
   ],
   "source": [
    "#problem 3.4\n",
    "users = ['joe', 'sue', 'hani', 'sophie']\n",
    "id = input('Login: ')\n",
    "if id in users:\n",
    " print('You are in!')\n",
    "else:\n",
    " print('User unknown.')\n",
    " print('Done.')\n"
   ]
  },
  {
   "cell_type": "code",
   "execution_count": 10,
   "metadata": {},
   "outputs": [
    {
     "name": "stdout",
     "output_type": "stream",
     "text": [
      "sana\n",
      "Sara\n",
      "atta\n"
     ]
    }
   ],
   "source": [
    "#problem 3.5\n",
    "wordList = ['sana','sarim','Sara','atta']\n",
    "for word in wordList:\n",
    "    if len(word) == 4:\n",
    "        print(word)"
   ]
  },
  {
   "cell_type": "code",
   "execution_count": 13,
   "metadata": {},
   "outputs": [
    {
     "name": "stdout",
     "output_type": "stream",
     "text": [
      "0\n",
      "1\n",
      "2\n",
      "3\n",
      "4\n",
      "5\n",
      "6\n",
      "7\n",
      "8\n",
      "9\n",
      "0\n",
      "1\n"
     ]
    }
   ],
   "source": [
    "#problem 3.6\n",
    "for i in range(10):\n",
    "    print(i)\n",
    "for i in range(2):\n",
    "    print(i) \n"
   ]
  },
  {
   "cell_type": "code",
   "execution_count": 12,
   "metadata": {},
   "outputs": [
    {
     "name": "stdout",
     "output_type": "stream",
     "text": [
      "3\n",
      "4\n",
      "5\n",
      "6\n",
      "7\n",
      "8\n",
      "9\n",
      "10\n",
      "11\n",
      "12\n",
      "0\n",
      "3\n",
      "6\n",
      "9\n",
      "12\n",
      "15\n",
      "18\n",
      "21\n",
      "0\n",
      "2\n",
      "4\n",
      "6\n",
      "8\n",
      "3\n",
      "8\n"
     ]
    }
   ],
   "source": [
    "#problem 3.7\n",
    "for i in range (3,13):\n",
    "    print(i)\n",
    "for i in range (0,24,3):\n",
    "    print(i)\n",
    "for i in range (0,10,2):\n",
    "    print(i)\n",
    "for i in range (3,12,5):\n",
    "    print(i)"
   ]
  },
  {
   "cell_type": "code",
   "execution_count": 15,
   "metadata": {},
   "outputs": [
    {
     "name": "stdout",
     "output_type": "stream",
     "text": [
      "The Perimeter of a Circle is:  31.41592653589793 cm\n"
     ]
    }
   ],
   "source": [
    "#problem 3.8\n",
    "from math import pi\n",
    "def perimeter(radius):\n",
    "    return (2 *pi*radius)\n",
    "print(\"The Perimeter of a Circle is: \",perimeter(5),'cm')"
   ]
  },
  {
   "cell_type": "code",
   "execution_count": 18,
   "metadata": {},
   "outputs": [
    {
     "name": "stdout",
     "output_type": "stream",
     "text": [
      "The Average of x and y is :  3.0\n"
     ]
    }
   ],
   "source": [
    "#problem 3.9\n",
    "def average(x,y):\n",
    "    return(x + y) / 2\n",
    "print(\"The Average of x and y is : \",average(3,3))"
   ]
  },
  {
   "cell_type": "code",
   "execution_count": 23,
   "metadata": {},
   "outputs": [
    {
     "name": "stdout",
     "output_type": "stream",
     "text": [
      "The Including vowels In a String is:  True\n"
     ]
    }
   ],
   "source": [
    "#problem 3.10\n",
    "def noVowel(s):\n",
    "    for c in s:\n",
    "        if c in 'aeiouAEIOU':\n",
    "            return False\n",
    "        else:\n",
    "            return True\n",
    "print(\"The Including vowels In a String is: \",noVowel('bzx'))"
   ]
  },
  {
   "cell_type": "code",
   "execution_count": 27,
   "metadata": {},
   "outputs": [
    {
     "data": {
      "text/plain": [
       "False"
      ]
     },
     "execution_count": 27,
     "metadata": {},
     "output_type": "execute_result"
    }
   ],
   "source": [
    "#problem 3.11\n",
    "def allEven(numList):\n",
    "    numList=(1,2,3,5,7,9,10)\n",
    "    for num in numList:\n",
    "        if num%2 != 0:\n",
    "            return False\n",
    "        else:\n",
    "            return True\n",
    "allEven(5)"
   ]
  },
  {
   "cell_type": "code",
   "execution_count": 32,
   "metadata": {},
   "outputs": [
    {
     "name": "stdout",
     "output_type": "stream",
     "text": [
      "-1\n",
      "-2\n",
      "-3\n"
     ]
    }
   ],
   "source": [
    "#problem 3.12\n",
    "def negatives():\n",
    "    lst=[-1,1,-2,-3,1]\n",
    "    for i in lst:\n",
    "        if i < 0:\n",
    "            print(i)\n",
    "negatives()"
   ]
  },
  {
   "cell_type": "code",
   "execution_count": 33,
   "metadata": {},
   "outputs": [
    {
     "name": "stdout",
     "output_type": "stream",
     "text": [
      "['Sarah', 'Eleanor', 'Clare', 'Ava']\n"
     ]
    }
   ],
   "source": [
    "#prolem 3.15\n",
    "team = ['Ava','Eleanor','Clare','Sarah']\n",
    "team[0],team[-1] = team[-1],team[0]\n",
    "print(team)"
   ]
  },
  {
   "cell_type": "code",
   "execution_count": 34,
   "metadata": {},
   "outputs": [
    {
     "ename": "NameError",
     "evalue": "name 'ingredients' is not defined",
     "output_type": "error",
     "traceback": [
      "\u001b[1;31m---------------------------------------------------------------------------\u001b[0m",
      "\u001b[1;31mNameError\u001b[0m                                 Traceback (most recent call last)",
      "\u001b[1;32m<ipython-input-34-0fb9656c6350>\u001b[0m in \u001b[0;36m<module>\u001b[1;34m\u001b[0m\n\u001b[0;32m      3\u001b[0m     \u001b[0mingredients\u001b[0m \u001b[1;33m=\u001b[0m \u001b[1;33m[\u001b[0m\u001b[1;34m'Flour'\u001b[0m\u001b[1;33m,\u001b[0m\u001b[1;34m'Sugar'\u001b[0m\u001b[1;33m,\u001b[0m\u001b[1;34m'apples'\u001b[0m\u001b[1;33m,\u001b[0m\u001b[1;34m'butter'\u001b[0m\u001b[1;33m]\u001b[0m\u001b[1;33m\u001b[0m\u001b[1;33m\u001b[0m\u001b[0m\n\u001b[0;32m      4\u001b[0m     \u001b[0mingredients\u001b[0m\u001b[1;33m[\u001b[0m\u001b[1;36m0\u001b[0m\u001b[1;33m]\u001b[0m\u001b[1;33m,\u001b[0m\u001b[0mingredients\u001b[0m\u001b[1;33m[\u001b[0m\u001b[1;33m-\u001b[0m\u001b[1;36m1\u001b[0m\u001b[1;33m]\u001b[0m\u001b[1;33m=\u001b[0m\u001b[0mingredients\u001b[0m\u001b[1;33m[\u001b[0m\u001b[1;33m-\u001b[0m\u001b[1;36m1\u001b[0m\u001b[1;33m]\u001b[0m\u001b[1;33m,\u001b[0m\u001b[0mingredients\u001b[0m\u001b[1;33m[\u001b[0m\u001b[1;36m0\u001b[0m\u001b[1;33m]\u001b[0m\u001b[1;33m\u001b[0m\u001b[1;33m\u001b[0m\u001b[0m\n\u001b[1;32m----> 5\u001b[1;33m \u001b[0mprint\u001b[0m\u001b[1;33m(\u001b[0m\u001b[1;34m\"Swapped List is : \"\u001b[0m\u001b[1;33m,\u001b[0m\u001b[0mingredients\u001b[0m\u001b[1;33m)\u001b[0m\u001b[1;33m\u001b[0m\u001b[1;33m\u001b[0m\u001b[0m\n\u001b[0m\u001b[0;32m      6\u001b[0m \u001b[0mswapFL\u001b[0m\u001b[1;33m(\u001b[0m\u001b[1;33m)\u001b[0m\u001b[1;33m\u001b[0m\u001b[1;33m\u001b[0m\u001b[0m\n",
      "\u001b[1;31mNameError\u001b[0m: name 'ingredients' is not defined"
     ]
    }
   ],
   "source": [
    "#problem 3.16\n",
    "def swapFL():\n",
    "    ingredients = ['Flour','Sugar','apples','butter']\n",
    "    ingredients[0],ingredients[-1]=ingredients[-1],ingredients[0]\n",
    "print(\"Swapped List is : \",ingredients)\n",
    "swapFL()\n"
   ]
  },
  {
   "cell_type": "code",
   "execution_count": 40,
   "metadata": {},
   "outputs": [
    {
     "name": "stdout",
     "output_type": "stream",
     "text": [
      "Enter Your Value: 2\n",
      "Enter Your Value: 3\n",
      "The Total Value is:  7\n"
     ]
    }
   ],
   "source": [
    "#problem 3.17\n",
    "a = eval(input(\"Enter Your Value: \"))\n",
    "b = eval(input(\"Enter Your Value: \"))\n",
    "c= a*b+1\n",
    "print(\"The Total Value is: \",c)"
   ]
  },
  {
   "cell_type": "code",
   "execution_count": 41,
   "metadata": {},
   "outputs": [
    {
     "name": "stdout",
     "output_type": "stream",
     "text": [
      "Enter Word: hello\n"
     ]
    },
    {
     "ename": "NameError",
     "evalue": "name 'hello' is not defined",
     "output_type": "error",
     "traceback": [
      "\u001b[1;31m---------------------------------------------------------------------------\u001b[0m",
      "\u001b[1;31mNameError\u001b[0m                                 Traceback (most recent call last)",
      "\u001b[1;32m<ipython-input-41-17e912242eec>\u001b[0m in \u001b[0;36m<module>\u001b[1;34m\u001b[0m\n\u001b[0;32m      1\u001b[0m \u001b[1;31m#part(B)\u001b[0m\u001b[1;33m\u001b[0m\u001b[1;33m\u001b[0m\u001b[1;33m\u001b[0m\u001b[0m\n\u001b[1;32m----> 2\u001b[1;33m \u001b[0mb\u001b[0m \u001b[1;33m=\u001b[0m \u001b[0meval\u001b[0m\u001b[1;33m(\u001b[0m\u001b[0minput\u001b[0m\u001b[1;33m(\u001b[0m\u001b[1;34m\"Enter Word: \"\u001b[0m\u001b[1;33m)\u001b[0m\u001b[1;33m)\u001b[0m\u001b[1;33m\u001b[0m\u001b[1;33m\u001b[0m\u001b[0m\n\u001b[0m\u001b[0;32m      3\u001b[0m \u001b[0mprint\u001b[0m\u001b[1;33m(\u001b[0m\u001b[0mb\u001b[0m\u001b[1;33m)\u001b[0m\u001b[1;33m\u001b[0m\u001b[1;33m\u001b[0m\u001b[0m\n\u001b[0;32m      4\u001b[0m \u001b[1;31m# Because alisha Is a String\u001b[0m\u001b[1;33m\u001b[0m\u001b[1;33m\u001b[0m\u001b[1;33m\u001b[0m\u001b[0m\n\u001b[0;32m      5\u001b[0m \u001b[1;31m# We Will Use Str Not Eval\u001b[0m\u001b[1;33m\u001b[0m\u001b[1;33m\u001b[0m\u001b[1;33m\u001b[0m\u001b[0m\n",
      "\u001b[1;32m<string>\u001b[0m in \u001b[0;36m<module>\u001b[1;34m\u001b[0m\n",
      "\u001b[1;31mNameError\u001b[0m: name 'hello' is not defined"
     ]
    }
   ],
   "source": [
    "#part(B)\n",
    "b = eval(input(\"Enter Word: \"))\n",
    "print(b)\n",
    "# Because alisha Is a String\n",
    "# We Will Use Str Not Eval\n"
   ]
  },
  {
   "cell_type": "code",
   "execution_count": 1,
   "metadata": {},
   "outputs": [
    {
     "name": "stdout",
     "output_type": "stream",
     "text": [
      "Enter Your String : hello world\n",
      "hello world\n"
     ]
    }
   ],
   "source": [
    "#part(C)\n",
    "x = str(input(\"Enter Your String : \"))\n",
    "print(x)\n",
    "# WE Cant Use Eval For a String"
   ]
  },
  {
   "cell_type": "code",
   "execution_count": 38,
   "metadata": {},
   "outputs": [
    {
     "name": "stdout",
     "output_type": "stream",
     "text": [
      "2\n"
     ]
    }
   ],
   "source": [
    "#part(D)\n",
    "c = 'ASCII'\n",
    "z =c.count('I')\n",
    "print(z)\n"
   ]
  },
  {
   "cell_type": "code",
   "execution_count": 2,
   "metadata": {},
   "outputs": [
    {
     "name": "stdout",
     "output_type": "stream",
     "text": [
      "Enter Your Value is: 5\n",
      "5\n"
     ]
    }
   ],
   "source": [
    "#part(E)\n",
    "x=eval(input(\"Enter Your Value is: \"))\n",
    "print(x)\n"
   ]
  },
  {
   "cell_type": "code",
   "execution_count": 5,
   "metadata": {},
   "outputs": [
    {
     "name": "stdout",
     "output_type": "stream",
     "text": [
      "a) Ok\n",
      "d) Ok\n"
     ]
    }
   ],
   "source": [
    "#problem 3.18\n",
    "a, b, c = 3, 4, 5 \n",
    "if a<b:   \n",
    "    print(\"a) Ok\") \n",
    "if c<b:  \n",
    "    print(\"b) Ok\") \n",
    "if a+b==c:   \n",
    "    print(\"c) Ok\") \n",
    "if a**2+b**2==c**2:   \n",
    "    print(\"d) Ok\")\n",
    " "
   ]
  },
  {
   "cell_type": "code",
   "execution_count": 6,
   "metadata": {},
   "outputs": [
    {
     "name": "stdout",
     "output_type": "stream",
     "text": [
      "a) Ok\n",
      "b) Not Ok\n",
      "c) Not Ok\n",
      "d) Ok\n"
     ]
    }
   ],
   "source": [
    "#problem 3.19\n",
    "a, b, c = 3, 4, 5 \n",
    "if a<b:    \n",
    "    print(\"a) Ok\") \n",
    "if c<b:    \n",
    "    print(\"b) Ok\") \n",
    "else:    \n",
    "    print(\"b) Not Ok\") \n",
    "if a+b==c:    \n",
    "    print(\"c) Ok\") \n",
    "else:    \n",
    "    print(\"c) Not Ok\") \n",
    "if a**2+b**2==c**2:    \n",
    "    print(\"d) Ok\")"
   ]
  },
  {
   "cell_type": "code",
   "execution_count": 8,
   "metadata": {},
   "outputs": [
    {
     "name": "stdout",
     "output_type": "stream",
     "text": [
      "The Iterate form Jan\n",
      "The Iterate form Feb\n",
      "The Iterate form Mar\n"
     ]
    }
   ],
   "source": [
    "#problem 3.20\n",
    "lst = ['January', 'February', 'March']\n",
    "for i in lst:\n",
    " print(\"The Iterate form\",i[:3])"
   ]
  },
  {
   "cell_type": "code",
   "execution_count": 10,
   "metadata": {},
   "outputs": [
    {
     "name": "stdout",
     "output_type": "stream",
     "text": [
      "2\n",
      "4\n",
      "6\n",
      "8\n"
     ]
    }
   ],
   "source": [
    "#problem 3.21\n",
    "lst = [2, 3, 4, 5, 6, 7, 8, 9]\n",
    "for i in lst:\n",
    "    if i%2==0:\n",
    "        print(i)\n"
   ]
  },
  {
   "cell_type": "code",
   "execution_count": 14,
   "metadata": {},
   "outputs": [
    {
     "name": "stdout",
     "output_type": "stream",
     "text": [
      "4\n",
      "8\n"
     ]
    }
   ],
   "source": [
    "#problem 3.22\n",
    "lst= [2, 3, 4, 5, 6, 7, 8, 9]\n",
    "for i in lst:\n",
    "    if i**2%8==0:\n",
    "        print(i)\n"
   ]
  },
  {
   "cell_type": "code",
   "execution_count": 15,
   "metadata": {},
   "outputs": [
    {
     "name": "stdout",
     "output_type": "stream",
     "text": [
      "0 1 \n",
      "0 \n",
      "3 4 5 6 \n",
      "1 \n",
      "0 3 \n",
      "5 9 13 17 21 "
     ]
    }
   ],
   "source": [
    "#problem 3.23\n",
    "for i in range(2):\n",
    " print(i,end=\" \")\n",
    "print()\n",
    "for i in range(1):\n",
    " print(i,end=\" \")\n",
    "print()\n",
    "for i in range(3,7):\n",
    " print(i,end=\" \")\n",
    "print()\n",
    "for i in range(1,2):\n",
    " print(i,end=\" \")\n",
    "print()\n",
    "for i in range(0,4,3):\n",
    " print(i,end=\" \")\n",
    "print()\n",
    "for i in range(5,22,4):\n",
    " print(i,end=\" \")"
   ]
  },
  {
   "cell_type": "code",
   "execution_count": 20,
   "metadata": {},
   "outputs": [
    {
     "name": "stdout",
     "output_type": "stream",
     "text": [
      "Enter Word List: cia isi secret mi6 secret\n",
      "cia\n",
      "isi\n",
      "mi6\n"
     ]
    }
   ],
   "source": [
    "#problem 3.24\n",
    "word= (input(\"Enter Word List: \")).split()\n",
    "for i in word:    \n",
    "    if i!='secret':        \n",
    "        print(i)\n"
   ]
  },
  {
   "cell_type": "code",
   "execution_count": 22,
   "metadata": {},
   "outputs": [
    {
     "name": "stdout",
     "output_type": "stream",
     "text": [
      "Enter the Name list: ELLIE STEVE OWEN SAM\n",
      "ELLIE\n"
     ]
    }
   ],
   "source": [
    "#problem 3.25\n",
    "namelist=(input(\"Enter the Name list: \")).split()\n",
    "alphabets=['A','B','C','D','E','F','G','H','I','J','K','L','M']\n",
    "for i in namelist:\n",
    "    if i[0] in alphabets:\n",
    "        print(i)\n"
   ]
  },
  {
   "cell_type": "code",
   "execution_count": 23,
   "metadata": {},
   "outputs": [
    {
     "name": "stdout",
     "output_type": "stream",
     "text": [
      "Enter Your List Numbers : 3 5 7 9\n",
      "The First Element is:  3\n",
      "The Last Element is:  9\n"
     ]
    }
   ],
   "source": [
    "#problem 3.26\n",
    "lst=(input(\"Enter Your List Numbers : \")).split()\n",
    "print(\"The First Element is: \",lst[0])\n",
    "print(\"The Last Element is: \",lst[-1])"
   ]
  },
  {
   "cell_type": "code",
   "execution_count": 24,
   "metadata": {},
   "outputs": [
    {
     "name": "stdout",
     "output_type": "stream",
     "text": [
      "Enter The Number: 5\n",
      "0\n",
      "5\n",
      "10\n",
      "15\n"
     ]
    }
   ],
   "source": [
    "#problem 3.27\n",
    "number = int(input(\"Enter The Number: \"))\n",
    "for i in range(4):\n",
    "    print(number*i)"
   ]
  },
  {
   "cell_type": "code",
   "execution_count": 30,
   "metadata": {},
   "outputs": [
    {
     "name": "stdout",
     "output_type": "stream",
     "text": [
      "enter an integer :4\n",
      "0\n",
      "1\n",
      "4\n",
      "9\n"
     ]
    }
   ],
   "source": [
    "#problem 3.28\n",
    "n=int(input(\"enter an integer :\"))\n",
    "for i in range(0,n):\n",
    "    if i!=n:\n",
    "        s=i**2\n",
    "        print(s)"
   ]
  },
  {
   "cell_type": "code",
   "execution_count": 27,
   "metadata": {},
   "outputs": [
    {
     "name": "stdout",
     "output_type": "stream",
     "text": [
      "Enter an Integer: 49\n",
      "1\n",
      "7\n",
      "49\n"
     ]
    }
   ],
   "source": [
    "#problem 3.29\n",
    "n=int(input(\"Enter an Integer: \"))\n",
    "for i in range(1,n+1):\n",
    "    if n%i==0:\n",
    "        print(i)"
   ]
  },
  {
   "cell_type": "code",
   "execution_count": 32,
   "metadata": {},
   "outputs": [
    {
     "name": "stdout",
     "output_type": "stream",
     "text": [
      "Enter The First Number : 4.5\n",
      "Enter The Second Number : 3\n",
      "Enter The Third Number : 4.5\n",
      "Enter The Forth Number : 3\n",
      "Equal\n"
     ]
    }
   ],
   "source": [
    "#problem 3.30\n",
    "number1 =float(input(\"Enter The First Number : \"))\n",
    "number2 =float(input(\"Enter The Second Number : \"))\n",
    "number3 =float(input(\"Enter The Third Number : \"))\n",
    "number4 =float(input(\"Enter The Forth Number : \"))\n",
    "if (number1+number2+number3)/4==number4:\n",
    "    print(\"Equal\")\n"
   ]
  },
  {
   "cell_type": "code",
   "execution_count": 33,
   "metadata": {},
   "outputs": [
    {
     "name": "stdout",
     "output_type": "stream",
     "text": [
      "Enter The x cordinate: 2\n",
      "Enter the y cordinate:3.5\n",
      "It is not in\n"
     ]
    }
   ],
   "source": [
    "#problem 3.31\n",
    "r=8\n",
    "a=0\n",
    "b=0\n",
    "x=float(input(\"Enter The x cordinate: \"))\n",
    "y=float(input(\"Enter the y cordinate:\"))\n",
    "point=(x-a)**2+(y-b)**2\n",
    "if point<r:\n",
    "    print(\"It is in\")\n",
    "else:\n",
    "    print(\"It is not in\")"
   ]
  },
  {
   "cell_type": "code",
   "execution_count": 34,
   "metadata": {},
   "outputs": [
    {
     "name": "stdout",
     "output_type": "stream",
     "text": [
      "Enter The Positive Integer1 2 3 4 5\n",
      "1\n",
      " \n",
      "2\n",
      " \n",
      "3\n",
      " \n",
      "4\n",
      " \n",
      "5\n"
     ]
    }
   ],
   "source": [
    "#prooblem 3.32\n",
    "x =input(\"Enter The Positive Integer\")\n",
    "x.split()\n",
    "for i in x:\n",
    "    print(i)\n"
   ]
  },
  {
   "cell_type": "code",
   "execution_count": 35,
   "metadata": {},
   "outputs": [
    {
     "data": {
      "text/plain": [
       "'ahsila'"
      ]
     },
     "execution_count": 35,
     "metadata": {},
     "output_type": "execute_result"
    }
   ],
   "source": [
    "#problem 3.33\n",
    "def revstring(word):\n",
    "    return word[::-1]\n",
    "revstring('alisha')"
   ]
  },
  {
   "cell_type": "code",
   "execution_count": 43,
   "metadata": {},
   "outputs": [
    {
     "name": "stdout",
     "output_type": "stream",
     "text": [
      "The Incremented Pay is : 675.0\n"
     ]
    }
   ],
   "source": [
    "#problem 3.34\n",
    "def pay(hrs_wage,tot_hrs):\n",
    "    x=hrs_wage*tot_hrs\n",
    "    if tot_hrs>=40:\n",
    "        y=x*1.5\n",
    "        print(\"The Incremented Pay is :\",y)\n",
    "    else:\n",
    "        print(\"The Pay is : \",x)\n",
    "pay(10,45)"
   ]
  },
  {
   "cell_type": "code",
   "execution_count": 44,
   "metadata": {},
   "outputs": [
    {
     "name": "stdout",
     "output_type": "stream",
     "text": [
      "The Probablity is:  0.125\n"
     ]
    }
   ],
   "source": [
    "#problem 3.35\n",
    "def prob(n):\n",
    "    y=1/2**n\n",
    "    return y\n",
    "print(\"The Probablity is: \",prob(3))"
   ]
  },
  {
   "cell_type": "code",
   "execution_count": 45,
   "metadata": {},
   "outputs": [
    {
     "data": {
      "text/plain": [
       "'321'"
      ]
     },
     "execution_count": 45,
     "metadata": {},
     "output_type": "execute_result"
    }
   ],
   "source": [
    "#problem 3.36\n",
    "def revstring(Number):\n",
    "    return Number[::-1]\n",
    "revstring('123')"
   ]
  },
  {
   "cell_type": "code",
   "execution_count": 47,
   "metadata": {},
   "outputs": [
    {
     "data": {
      "text/plain": [
       "'Tu'"
      ]
     },
     "execution_count": 47,
     "metadata": {},
     "output_type": "execute_result"
    }
   ],
   "source": [
    "#problem 3.38\n",
    "def csh(x):\n",
    "    y=x[0:2]\n",
    "    return(y)\n",
    "csh('Tuesday')\n"
   ]
  },
  {
   "cell_type": "code",
   "execution_count": 48,
   "metadata": {},
   "outputs": [
    {
     "data": {
      "text/plain": [
       "True"
      ]
     },
     "execution_count": 48,
     "metadata": {},
     "output_type": "execute_result"
    }
   ],
   "source": [
    "#problem 3.39\n",
    "from math import sqrt\n",
    "def collision(x1,y1,r1,x2,y2,r2):\n",
    "    center_dis=sqrt((x1-x2)**2 +(y1-y2)**2)\n",
    "    if center_dis <=r1+r2:\n",
    "        return True\n",
    "    else:\n",
    "        return False\n",
    "collision(0, 0, 3, 0, 5, 3)"
   ]
  },
  {
   "cell_type": "code",
   "execution_count": 52,
   "metadata": {},
   "outputs": [
    {
     "name": "stdout",
     "output_type": "stream",
     "text": [
      "Enter the list of names:  Eleanor Evelyn Sammy Owen Gavi\n",
      "Eleanor\n",
      "Evelyn\n",
      "Gavi\n"
     ]
    }
   ],
   "source": [
    "#problem 3.40\n",
    "def partition():\n",
    "    alphabets=['A','B','C','D','E','F','G','H','I','J','K','L','M']\n",
    "    x=input('Enter the list of names: ')\n",
    "    y=x.split()\n",
    "    for i in y:\n",
    "        if i[0] in alphabets:\n",
    "            print(i)\n",
    "partition()"
   ]
  },
  {
   "cell_type": "code",
   "execution_count": 54,
   "metadata": {},
   "outputs": [
    {
     "data": {
      "text/plain": [
       "'Alisha H.'"
      ]
     },
     "execution_count": 54,
     "metadata": {},
     "output_type": "execute_result"
    }
   ],
   "source": [
    "#problem 3.41\n",
    "def lastF(F_name,L_name):\n",
    " x=F_name+' '+L_name[0]+'.'\n",
    " return (x)\n",
    "lastF('Alisha','Hameed')"
   ]
  },
  {
   "cell_type": "code",
   "execution_count": null,
   "metadata": {},
   "outputs": [],
   "source": [
    "#problem 3.42\n",
    "def avg(a,b,c,d):\n",
    "    a=a\n",
    "    b=b\n",
    "    c=c\n",
    "    d=d\n",
    "    print(a/4)\n",
    "    print(b/4)\n",
    "    print(c/4)\n",
    "    print(d/4)\n",
    "avg([95,92,86,87],[66,54,88,23],[89,72,100,43],[33,0,0,0])    "
   ]
  },
  {
   "cell_type": "code",
   "execution_count": 3,
   "metadata": {},
   "outputs": [
    {
     "data": {
      "text/plain": [
       "True"
      ]
     },
     "execution_count": 3,
     "metadata": {},
     "output_type": "execute_result"
    }
   ],
   "source": [
    "#problem 3.43\n",
    "def hit(x_c,y_c,r_C,x_p,y_p):\n",
    "    x=(x_p-x_c)**2 + (y_p-y_c)**2\n",
    "    y=r_C**2\n",
    "    if (x/y)<=r_C:\n",
    "        return True\n",
    "    else:\n",
    "        return False\n",
    "hit(0, 0, 3, 3, 0)\n"
   ]
  },
  {
   "cell_type": "code",
   "execution_count": 4,
   "metadata": {},
   "outputs": [
    {
     "name": "stdout",
     "output_type": "stream",
     "text": [
      "The distance is:  1.0208700000000002 km\n"
     ]
    }
   ],
   "source": [
    "#problem 3.44\n",
    "def distance(t):\n",
    "    x=(340.29)*t\n",
    "    return(x)\n",
    "print(\"The distance is: \",distance(3/1000),\"km\")"
   ]
  },
  {
   "cell_type": "code",
   "execution_count": null,
   "metadata": {},
   "outputs": [],
   "source": []
  }
 ],
 "metadata": {
  "kernelspec": {
   "display_name": "Python 3",
   "language": "python",
   "name": "python3"
  },
  "language_info": {
   "codemirror_mode": {
    "name": "ipython",
    "version": 3
   },
   "file_extension": ".py",
   "mimetype": "text/x-python",
   "name": "python",
   "nbconvert_exporter": "python",
   "pygments_lexer": "ipython3",
   "version": "3.7.3"
  }
 },
 "nbformat": 4,
 "nbformat_minor": 2
}
