{
 "cells": [
  {
   "cell_type": "code",
   "execution_count": 7,
   "metadata": {},
   "outputs": [
    {
     "name": "stdout",
     "output_type": "stream",
     "text": [
      "the area of cylinder is : 75.39822368615503 cm\n"
     ]
    }
   ],
   "source": [
    "#question 1\n",
    "#area of cylinder\n",
    "from math import pi\n",
    "def surfaceA(r,h):\n",
    "    Area =2*pi*r*h+2*pi*r**2\n",
    "    return Area\n",
    "r=2\n",
    "h=4\n",
    "print(\"the area of cylinder is :\",surfaceA(r,h),\"cm\")"
   ]
  },
  {
   "cell_type": "code",
   "execution_count": 5,
   "metadata": {},
   "outputs": [
    {
     "name": "stdout",
     "output_type": "stream",
     "text": [
      "the volume of cylinder is :  50.26548245743669 cm\n"
     ]
    }
   ],
   "source": [
    "#volume of cylinder\n",
    "from math import pi\n",
    "def Volume(r,h):\n",
    "    vol = pi*r**2*h\n",
    "    return vol\n",
    "r=2\n",
    "h=4\n",
    "print(\"the volume of cylinder is : \",Volume(x,y),'cm')"
   ]
  },
  {
   "cell_type": "code",
   "execution_count": 13,
   "metadata": {},
   "outputs": [
    {
     "name": "stdout",
     "output_type": "stream",
     "text": [
      "the area of sphere is :  24 cm\n"
     ]
    }
   ],
   "source": [
    "#question 2\n",
    "#area of sphere\n",
    "def surfaceArea(l,w,):\n",
    "    area = l*w*h\n",
    "    return vol\n",
    "l=2\n",
    "w=3\n",
    "print(\"the area of sphere is : \",surfaceArea(l,w),'cm')\n"
   ]
  },
  {
   "cell_type": "code",
   "execution_count": 14,
   "metadata": {},
   "outputs": [
    {
     "name": "stdout",
     "output_type": "stream",
     "text": [
      "the volume of sphere is :  24 cm\n"
     ]
    }
   ],
   "source": [
    "#volume of sphere\n",
    "def volume(l,w,h):\n",
    "    vol = l*w*h\n",
    "    return vol\n",
    "l=2\n",
    "w=3\n",
    "h=4\n",
    "print(\"the volume of sphere is : \",volume(l,w,h),'cm')\n",
    "    \n"
   ]
  },
  {
   "cell_type": "code",
   "execution_count": 16,
   "metadata": {},
   "outputs": [
    {
     "name": "stdout",
     "output_type": "stream",
     "text": [
      "the required value of the sequence is :  24\n"
     ]
    }
   ],
   "source": [
    "#question 3\n",
    "def arithmeticsq(a1,n,d):\n",
    "    an = a1+(n-1)*d\n",
    "    return an\n",
    "print(\"the required value of the sequence is : \",arithmeticsq(3,8,3))"
   ]
  },
  {
   "cell_type": "code",
   "execution_count": 1,
   "metadata": {},
   "outputs": [
    {
     "name": "stdout",
     "output_type": "stream",
     "text": [
      "Sorry,The Given string is not Pallindrome\n"
     ]
    }
   ],
   "source": [
    "#QUESTION 4\n",
    "\n",
    "def reverse(x): \n",
    "    return x[::-1] \n",
    "  \n",
    "def isPalindrome(x): \n",
    "    rev = reverse(x)  \n",
    "    if (x == rev): \n",
    "        return True\n",
    "    return False\n",
    "  \n",
    "x = \"Alisha\"\n",
    "ans = isPalindrome(x) \n",
    "  \n",
    "if ans == 1: \n",
    "    print(\"The Given string is Pallindrome\") \n",
    "else: \n",
    "    print(\"Sorry,The Given string is not Pallindrome\")\n",
    "\n"
   ]
  },
  {
   "cell_type": "code",
   "execution_count": 3,
   "metadata": {},
   "outputs": [
    {
     "name": "stdout",
     "output_type": "stream",
     "text": [
      "*************************************\n",
      "Marks sheet No   00225155-0\n",
      "Group            PRE-ENGINEERING\n",
      "Roll No          4567\n",
      "Enrolment No     NFCF/SE/E-0044/2018\n",
      "Name             ALISHA HAMEED\n",
      "Father's Name    ABDUL HAMEED\n",
      "College          FAZAIA DEGREE COLLEGE\n",
      "****************************************\n",
      "enter the obtained marks in english out of 100 : 88\n",
      "enter the obtained marks in maths out of 100 : 83\n",
      "enter the obtained marks in physics out of 100 : 68\n",
      "enter the obtained marks in urdu out of 100 : 83\n",
      "enter marks obtained in chemistry out of 100 : 68\n",
      "enter marks obtained in pst out of 50 : 40\n",
      "Marks obtained in English is :  88\n",
      "Marks obtained in Maths is :  83\n",
      "Marks obtained in Physics is :  68\n",
      "Marks obtained in Urdu is :  83\n",
      "Marks obtained in Chemistry is :  68\n",
      "Marks obtained in pst is :  40\n",
      "MAX MARKS :  550\n",
      "Secured Marks :  430\n",
      "Percentage:  78.18181818181819 %\n",
      "Grade: A\n"
     ]
    }
   ],
   "source": [
    "print(\"*************************************\")\n",
    "print(\"Marks sheet No   00225155-0\")\n",
    "print(\"Group            PRE-ENGINEERING\")\n",
    "print(\"Roll No          4567\")\n",
    "print(\"Enrolment No     NFCF/SE/E-0044/2018\")\n",
    "print(\"Name             ALISHA HAMEED\")\n",
    "print(\"Father's Name    ABDUL HAMEED\")\n",
    "print(\"College          FAZAIA DEGREE COLLEGE\")\n",
    "print(\"****************************************\")\n",
    "English=int(input(\"enter the obtained marks in english out of 100 : \"))\n",
    "Math=int(input(\"enter the obtained marks in maths out of 100 : \"))\n",
    "Physics=int(input(\"enter the obtained marks in physics out of 100 : \"))\n",
    "Urdu=int(input(\"enter the obtained marks in urdu out of 100 : \"))\n",
    "Chemistry=int(input(\"enter marks obtained in chemistry out of 100 : \"))\n",
    "Pakistan_studies=int(input(\"enter marks obtained in pst out of 50 : \"))\n",
    "print(\"Marks obtained in English is : \",English)\n",
    "print(\"Marks obtained in Maths is : \",Math)\n",
    "print(\"Marks obtained in Physics is : \",Physics)\n",
    "print(\"Marks obtained in Urdu is : \",Urdu)\n",
    "print(\"Marks obtained in Chemistry is : \",Chemistry)\n",
    "print(\"Marks obtained in pst is : \",Pakistan_studies)\n",
    "obtained_marks=English+Physics+Urdu+Chemistry+Pakistan_studies+Math\n",
    "total_marks=550\n",
    "print(\"MAX MARKS : \",total_marks)\n",
    "print(\"Secured Marks : \",obtained_marks)\n",
    "def percentage(total_marks,obtained_marks):\n",
    "    x=(obtained_marks/total_marks)*100\n",
    "    return x\n",
    "\n",
    "def grade(x):\n",
    "    if x>=80:\n",
    "        return(\"Grade: A+\")\n",
    "    elif x<80 and x>=70:\n",
    "        return(\"Grade: A\")\n",
    "    elif x<70 and x>=60:\n",
    "        return(\"Grade: B\")\n",
    "    elif x<60:\n",
    "        return(\"Grade: C\")\n",
    "\n",
    "xPercent = percentage(total_marks,obtained_marks)\n",
    "xGrade = grade(xPercent)\n",
    "print(\"Percentage: \",xPercent,\"%\")\n",
    "print(xGrade)  "
   ]
  },
  {
   "cell_type": "code",
   "execution_count": 4,
   "metadata": {},
   "outputs": [
    {
     "name": "stdout",
     "output_type": "stream",
     "text": [
      "Newton 1st law is : 28 m/s\n"
     ]
    }
   ],
   "source": [
    "#QUESTION 6\n",
    "import math\n",
    "def NewtonLaw_1(m,a):\n",
    "    f = m*a\n",
    "    return f\n",
    "\n",
    "\n",
    "print(\"Newton 1st law is :\",NewtonLaw_1(7,4),'m/s')"
   ]
  },
  {
   "cell_type": "code",
   "execution_count": 6,
   "metadata": {},
   "outputs": [
    {
     "name": "stdout",
     "output_type": "stream",
     "text": [
      "The final velocity of projectile motion  is : 333.55418161737447 m/s\n"
     ]
    }
   ],
   "source": [
    "#QUESTION 7\n",
    "import math\n",
    "angle =math.sin\n",
    "def projectile(vi,ang,g):\n",
    "    vf = math.sin(ang)*2*vi*g\n",
    "    return vf\n",
    "  \n",
    "print(\"The final velocity of projectile motion  is :\",projectile(20,45,9.8),'m/s')"
   ]
  },
  {
   "cell_type": "code",
   "execution_count": 8,
   "metadata": {},
   "outputs": [
    {
     "name": "stdout",
     "output_type": "stream",
     "text": [
      "The original string  is : Alisha\n",
      "The reversed string is : ahsilA\n"
     ]
    }
   ],
   "source": [
    "#QUESTION 8\n",
    "def reverse(n):\n",
    "    if len(n) == 0: \n",
    "        return n \n",
    "    else: \n",
    "        return reverse(n[1:]) + n[0]\n",
    "n=\"Alisha\"\n",
    "print (\"The original string  is : \",end=\"\") \n",
    "print (n) \n",
    "  \n",
    "print (\"The reversed string is : \",end=\"\") \n",
    "print (reverse(n)) "
   ]
  },
  {
   "cell_type": "code",
   "execution_count": 9,
   "metadata": {},
   "outputs": [
    {
     "name": "stdout",
     "output_type": "stream",
     "text": [
      "Perimeter of semi-circle is:  18.84955592153876 cm**2\n",
      "Perimeter of semi circle excluding 2 small semi circles:  1.5707963267948983 cm**2\n",
      "\n",
      "The area of big semi circle is:  56.548667764616276 cm**2\n",
      "Area of semi circle excluding 2 small semi circles:  27.881634800609415 cm**2\n"
     ]
    }
   ],
   "source": [
    "#QUESTION 11\n",
    "from math import pi\n",
    "d1=12\n",
    "d2=3\n",
    "d3=8\n",
    "perimeter_1=pi*(d1/2)\n",
    "print(\"Perimeter of semi-circle is: \",perimeter_1,\"cm**2\")\n",
    "perimeter_2=pi*(d2/2)\n",
    "perimeter_3=pi*(d3/2)\n",
    "print(\"Perimeter of semi circle excluding 2 small semi circles: \",perimeter_1-(perimeter_2+perimeter_3),\"cm**2\")\n",
    "print()\n",
    "area_1= (pi * (d1/2)**2)/2\n",
    "print(\"The area of big semi circle is: \",area_1,\"cm**2\")\n",
    "area_2= (pi * (d2/2)**2)/2\n",
    "area_3= (pi * (d3/2)**2)/2\n",
    "print(\"Area of semi circle excluding 2 small semi circles: \",area_1-(area_2+area_3),\"cm**2\")"
   ]
  },
  {
   "cell_type": "code",
   "execution_count": null,
   "metadata": {},
   "outputs": [],
   "source": []
  }
 ],
 "metadata": {
  "kernelspec": {
   "display_name": "Python 3",
   "language": "python",
   "name": "python3"
  },
  "language_info": {
   "codemirror_mode": {
    "name": "ipython",
    "version": 3
   },
   "file_extension": ".py",
   "mimetype": "text/x-python",
   "name": "python",
   "nbconvert_exporter": "python",
   "pygments_lexer": "ipython3",
   "version": "3.7.3"
  }
 },
 "nbformat": 4,
 "nbformat_minor": 2
}
