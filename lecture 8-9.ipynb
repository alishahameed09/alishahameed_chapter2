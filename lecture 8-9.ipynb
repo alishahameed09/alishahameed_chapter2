{
 "cells": [
  {
   "cell_type": "code",
   "execution_count": 1,
   "metadata": {},
   "outputs": [
    {
     "name": "stdout",
     "output_type": "stream",
     "text": [
      "*************************************\n",
      "Marks sheet No   00225155-0\n",
      "Group            PRE-ENGINEERING\n",
      "Roll No          4567\n",
      "Enrolment No     NFCF/SE/E-0044/2018\n",
      "Name             ALISHA HAMEED\n",
      "Father's Name    ABDUL HAMEED\n",
      "College          FAZAIA DEGREE COLLEGE\n",
      "****************************************\n",
      "enter the obtained marks in english out of 100 : 61\n",
      "enter the obtained marks in maths out of 100 : 83\n",
      "enter the obtained marks in physics out of 100 : 68\n",
      "enter the obtained marks in urdu out of 100 : 83\n",
      "enter marks obtained in chemistry out of 100 : 58\n",
      "enter marks obtained in pst out of 50 : 40\n",
      "Marks obtained in English is :  61\n",
      "Marks obtained in Maths is :  83\n",
      "Marks obtained in Physics is :  68\n",
      "Marks obtained in Urdu is :  83\n",
      "Marks obtained in Chemistry is :  58\n",
      "Marks obtained in pst is :  40\n",
      "MAX MARKS :  550\n",
      "Secured Marks :  393\n",
      "over all percentage% is :  71.45454545454545\n",
      "A Grade\n"
     ]
    }
   ],
   "source": [
    "#question 1\n",
    "print(\"*************************************\")\n",
    "print(\"Marks sheet No   00225155-0\")\n",
    "print(\"Group            PRE-ENGINEERING\")\n",
    "print(\"Roll No          4567\")\n",
    "print(\"Enrolment No     NFCF/SE/E-0044/2018\")\n",
    "print(\"Name             ALISHA HAMEED\")\n",
    "print(\"Father's Name    ABDUL HAMEED\")\n",
    "print(\"College          FAZAIA DEGREE COLLEGE\")\n",
    "print(\"****************************************\")\n",
    "English=int(input(\"enter the obtained marks in english out of 100 : \"))\n",
    "Math=int(input(\"enter the obtained marks in maths out of 100 : \"))\n",
    "Physics=int(input(\"enter the obtained marks in physics out of 100 : \"))\n",
    "Urdu=int(input(\"enter the obtained marks in urdu out of 100 : \"))\n",
    "Chemistry=int(input(\"enter marks obtained in chemistry out of 100 : \"))\n",
    "Pakistan_studies=int(input(\"enter marks obtained in pst out of 50 : \"))\n",
    "print(\"Marks obtained in English is : \",English)\n",
    "print(\"Marks obtained in Maths is : \",Math)\n",
    "print(\"Marks obtained in Physics is : \",Physics)\n",
    "print(\"Marks obtained in Urdu is : \",Urdu)\n",
    "print(\"Marks obtained in Chemistry is : \",Chemistry)\n",
    "print(\"Marks obtained in pst is : \",Pakistan_studies)\n",
    "obtained_marks=English+Physics+Urdu+Chemistry+Pakistan_studies+Math\n",
    "total_marks=550\n",
    "print(\"MAX MARKS : \",total_marks)\n",
    "print(\"Secured Marks : \",obtained_marks)\n",
    "percentage=(obtained_marks/total_marks)*100\n",
    "print(\"over all percentage% is : \",percentage)\n",
    "if percentage>=80:\n",
    "    print(\"A-one Grade\")\n",
    "if percentage<80 and percentage>=70:\n",
    "    print(\"A Grade\")\n",
    "if percentage<70 and percentage>=60:\n",
    "    print(\"B Grade\")\n",
    "if percentage<60 and percentage>=50:\n",
    "    print(\"C Grade\")\n",
    "if percentage<50 and percentage>=40:\n",
    "    print(\"D Grade\")\n",
    "if percentage<40 and percentage>=30:\n",
    "    print(\"FAIL\")\n",
    "    \n",
    "\n"
   ]
  },
  {
   "cell_type": "code",
   "execution_count": 2,
   "metadata": {},
   "outputs": [
    {
     "name": "stdout",
     "output_type": "stream",
     "text": [
      "Hamna I would like to invite u in my graduation ceremony\n",
      "Simra I would like to invite u in my graduation ceremony\n",
      "Oh my lovely freind Ayesha I would like to invite you in my graduation ceremony\n",
      "Oh my lovely freind Alisha I would like to invite you in my graduation ceremony\n",
      "Oh my lovely freind Aiman I would like to invite you in my graduation ceremony\n"
     ]
    }
   ],
   "source": [
    "# question 2\n",
    "name=(\"Hamna\",\"Simra\",\"Ayesha\",\"Alisha\",\"Aiman\")\n",
    "for i in name:\n",
    "    if i[0] in('a','e','i','o','u','A','E','I','O','U'):\n",
    "        print(\"Oh my lovely freind\",i,\"I would like to invite you in my graduation ceremony\")\n",
    "    else:\n",
    "        print(i,\"I would like to invite u in my graduation ceremony\")"
   ]
  },
  {
   "cell_type": "code",
   "execution_count": null,
   "metadata": {},
   "outputs": [],
   "source": []
  }
 ],
 "metadata": {
  "kernelspec": {
   "display_name": "Python 3",
   "language": "python",
   "name": "python3"
  },
  "language_info": {
   "codemirror_mode": {
    "name": "ipython",
    "version": 3
   },
   "file_extension": ".py",
   "mimetype": "text/x-python",
   "name": "python",
   "nbconvert_exporter": "python",
   "pygments_lexer": "ipython3",
   "version": "3.7.3"
  }
 },
 "nbformat": 4,
 "nbformat_minor": 2
}
