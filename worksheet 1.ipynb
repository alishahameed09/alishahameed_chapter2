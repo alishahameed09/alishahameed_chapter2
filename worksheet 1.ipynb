{
 "cells": [
  {
   "cell_type": "code",
   "execution_count": 20,
   "metadata": {},
   "outputs": [
    {
     "name": "stdout",
     "output_type": "stream",
     "text": [
      "time taken 30 mins\n",
      "sin(60) is :  -0.3048106211022167\n",
      "sin(30) is :  -0.9880316240928618\n",
      "sin(0) is :  0.0\n",
      "sin(45) is :  0.8509035245341184\n",
      "sin(90) is :  0.8939966636005579\n",
      "sin(180) is :  -0.8011526357338304\n"
     ]
    }
   ],
   "source": [
    "# question 1\n",
    "print(\"time taken 30 mins\")\n",
    "import math\n",
    "angle_in_degrees1=60\n",
    "angle_in_degrees2=90\n",
    "angle_in_degrees3=30\n",
    "angle_in_degrees4=45\n",
    "angle_in_degrees5=0\n",
    "angle_in_degrees6=180\n",
    "#sin()\n",
    "print(\"sin(60) is : \",math.sin(60))\n",
    "print(\"sin(30) is : \",math.sin(30))\n",
    "print(\"sin(0) is : \",math.sin(0))\n",
    "print(\"sin(45) is : \",math.sin(45))\n",
    "print(\"sin(90) is : \",math.sin(90))\n",
    "print(\"sin(180) is : \",math.sin(180))\n"
   ]
  },
  {
   "cell_type": "code",
   "execution_count": 6,
   "metadata": {},
   "outputs": [
    {
     "name": "stdout",
     "output_type": "stream",
     "text": [
      "cos(60) is :  -0.9524129804151563\n",
      "cos(30) is :  0.15425144988758405\n",
      "cos(0) is :  1.0\n",
      "cos(90) is :  -0.4480736161291701\n",
      "cos(45) is :  0.5253219888177297\n",
      "cos(180) is :  -0.5984600690578581\n"
     ]
    }
   ],
   "source": [
    "import math\n",
    "angle_in_degrees1=60\n",
    "angle_in_degrees2=90\n",
    "angle_in_degrees3=30\n",
    "angle_in_degrees4=45\n",
    "angle_in_degrees5=0\n",
    "angle_in_degrees6=180\n",
    "print(\"cos(60) is : \",math.cos(60))\n",
    "print(\"cos(30) is : \",math.cos(30))\n",
    "print(\"cos(0) is : \",math.cos(0))\n",
    "print(\"cos(90) is : \",math.cos(90))\n",
    "print(\"cos(45) is : \",math.cos(45))\n",
    "print(\"cos(180) is : \",math.cos(180))"
   ]
  },
  {
   "cell_type": "code",
   "execution_count": 8,
   "metadata": {},
   "outputs": [
    {
     "name": "stdout",
     "output_type": "stream",
     "text": [
      "tan(0) is :  0.0\n",
      "tan(45) is :  1.6197751905438615\n",
      "tan(90) is :  -1.995200412208242\n",
      "tan(180) is :  1.3386902103511544\n",
      "tan(30) is :  -6.405331196646276\n",
      "tan(60) is :  0.320040389379563\n"
     ]
    }
   ],
   "source": [
    "import math\n",
    "angle_in_degrees1=60\n",
    "angle_in_degrees2=90\n",
    "angle_in_degrees3=30\n",
    "angle_in_degrees4=45\n",
    "angle_in_degrees5=0\n",
    "angle_in_degrees6=180\n",
    "print(\"tan(0) is : \",math.tan(0))\n",
    "print(\"tan(45) is : \",math.tan(45))\n",
    "print(\"tan(90) is : \",math.tan(90))\n",
    "print(\"tan(180) is : \",math.tan(180))\n",
    "print(\"tan(30) is : \",math.tan(30))\n",
    "print(\"tan(60) is : \",math.tan(60))\n"
   ]
  },
  {
   "cell_type": "code",
   "execution_count": 9,
   "metadata": {},
   "outputs": [
    {
     "name": "stdout",
     "output_type": "stream",
     "text": [
      "asinh(30) is :  4.09462222433053\n",
      "asinh(60) is :  4.78756117999381\n",
      "asinh(0) is :  0.0\n",
      "asinh(45) is :  4.49993310426429\n",
      "asinh(90) is :  5.192987713658941\n",
      "asinh(180) is :  5.886111747410234\n"
     ]
    }
   ],
   "source": [
    "import math\n",
    "angle_in_degrees1=60\n",
    "angle_in_degrees2=90\n",
    "angle_in_degrees3=30\n",
    "angle_in_degrees4=45\n",
    "angle_in_degrees5=0\n",
    "angle_in_degrees6=180\n",
    "#asinh\n",
    "print(\"asinh(30) is : \",math.asinh(30))\n",
    "print(\"asinh(60) is : \",math.asinh(60))\n",
    "print(\"asinh(0) is : \",math.asinh(0))\n",
    "print(\"asinh(45) is : \",math.asinh(45))\n",
    "print(\"asinh(90) is : \",math.asinh(90))\n",
    "print(\"asinh(180) is : \",math.asinh(180))"
   ]
  },
  {
   "cell_type": "code",
   "execution_count": 11,
   "metadata": {},
   "outputs": [
    {
     "name": "stdout",
     "output_type": "stream",
     "text": [
      "acosh(30) is :  4.0940666686320855\n",
      "acosh(60) is :  4.787422291102689\n",
      "acosh(90) is :  5.192925985263684\n",
      "acosh(45) is :  5.886096315311465\n",
      "acosh(180) is :  5.886096315311465\n"
     ]
    }
   ],
   "source": [
    "import math\n",
    "angle_in_degrees1=60\n",
    "angle_in_degrees2=90\n",
    "angle_in_degrees3=30\n",
    "angle_in_degrees4=45\n",
    "angle_in_degrees5=0\n",
    "angle_in_degrees6=180\n",
    "#acosh\n",
    "print(\"acosh(30) is : \",math.acosh(30))\n",
    "print(\"acosh(60) is : \",math.acosh(60))\n",
    "print(\"acosh(90) is : \",math.acosh(90))\n",
    "print(\"acosh(45) is : \",math.acosh(180))\n",
    "print(\"acosh(180) is : \",math.acosh(180))\n"
   ]
  },
  {
   "cell_type": "code",
   "execution_count": 13,
   "metadata": {},
   "outputs": [
    {
     "name": "stdout",
     "output_type": "stream",
     "text": [
      "atanh(0) is :  0.0\n"
     ]
    }
   ],
   "source": [
    "import math\n",
    "angle_in_degrees1=60\n",
    "angle_in_degrees2=90\n",
    "angle_in_degrees3=30\n",
    "angle_in_degrees4=45\n",
    "angle_in_degrees5=0\n",
    "angle_in_degrees6=180\n",
    "#atanh\n",
    "print(\"atanh(0) is : \",math.atanh(0))"
   ]
  },
  {
   "cell_type": "code",
   "execution_count": 15,
   "metadata": {},
   "outputs": [
    {
     "name": "stdout",
     "output_type": "stream",
     "text": [
      "value of pie :  3.141592653589793\n"
     ]
    }
   ],
   "source": [
    "#pi value\n",
    "print(\"value of pi : \",math.pi)"
   ]
  },
  {
   "cell_type": "code",
   "execution_count": 17,
   "metadata": {},
   "outputs": [
    {
     "name": "stdout",
     "output_type": "stream",
     "text": [
      "math.power :  81.0\n"
     ]
    }
   ],
   "source": [
    "#power\n",
    "print(\"math.power : \",math.pow(3,4))"
   ]
  },
  {
   "cell_type": "code",
   "execution_count": 18,
   "metadata": {},
   "outputs": [
    {
     "name": "stdout",
     "output_type": "stream",
     "text": [
      "log(4.19) :  1.4327007339340465\n"
     ]
    }
   ],
   "source": [
    "#log\n",
    "print(\"log(4.19) : \",math.log(4.19))"
   ]
  },
  {
   "cell_type": "code",
   "execution_count": 19,
   "metadata": {},
   "outputs": [
    {
     "name": "stdout",
     "output_type": "stream",
     "text": [
      "sqrt(56) :  7.483314773547883\n"
     ]
    }
   ],
   "source": [
    "#sqrt\n",
    "print(\"sqrt(56) : \",math.sqrt(56))"
   ]
  },
  {
   "cell_type": "code",
   "execution_count": 3,
   "metadata": {},
   "outputs": [
    {
     "name": "stdout",
     "output_type": "stream",
     "text": [
      "Help on class list in module builtins:\n",
      "\n",
      "class list(object)\n",
      " |  list(iterable=(), /)\n",
      " |  \n",
      " |  Built-in mutable sequence.\n",
      " |  \n",
      " |  If no argument is given, the constructor creates a new empty list.\n",
      " |  The argument must be an iterable if specified.\n",
      " |  \n",
      " |  Methods defined here:\n",
      " |  \n",
      " |  __add__(self, value, /)\n",
      " |      Return self+value.\n",
      " |  \n",
      " |  __contains__(self, key, /)\n",
      " |      Return key in self.\n",
      " |  \n",
      " |  __delitem__(self, key, /)\n",
      " |      Delete self[key].\n",
      " |  \n",
      " |  __eq__(self, value, /)\n",
      " |      Return self==value.\n",
      " |  \n",
      " |  __ge__(self, value, /)\n",
      " |      Return self>=value.\n",
      " |  \n",
      " |  __getattribute__(self, name, /)\n",
      " |      Return getattr(self, name).\n",
      " |  \n",
      " |  __getitem__(...)\n",
      " |      x.__getitem__(y) <==> x[y]\n",
      " |  \n",
      " |  __gt__(self, value, /)\n",
      " |      Return self>value.\n",
      " |  \n",
      " |  __iadd__(self, value, /)\n",
      " |      Implement self+=value.\n",
      " |  \n",
      " |  __imul__(self, value, /)\n",
      " |      Implement self*=value.\n",
      " |  \n",
      " |  __init__(self, /, *args, **kwargs)\n",
      " |      Initialize self.  See help(type(self)) for accurate signature.\n",
      " |  \n",
      " |  __iter__(self, /)\n",
      " |      Implement iter(self).\n",
      " |  \n",
      " |  __le__(self, value, /)\n",
      " |      Return self<=value.\n",
      " |  \n",
      " |  __len__(self, /)\n",
      " |      Return len(self).\n",
      " |  \n",
      " |  __lt__(self, value, /)\n",
      " |      Return self<value.\n",
      " |  \n",
      " |  __mul__(self, value, /)\n",
      " |      Return self*value.\n",
      " |  \n",
      " |  __ne__(self, value, /)\n",
      " |      Return self!=value.\n",
      " |  \n",
      " |  __repr__(self, /)\n",
      " |      Return repr(self).\n",
      " |  \n",
      " |  __reversed__(self, /)\n",
      " |      Return a reverse iterator over the list.\n",
      " |  \n",
      " |  __rmul__(self, value, /)\n",
      " |      Return value*self.\n",
      " |  \n",
      " |  __setitem__(self, key, value, /)\n",
      " |      Set self[key] to value.\n",
      " |  \n",
      " |  __sizeof__(self, /)\n",
      " |      Return the size of the list in memory, in bytes.\n",
      " |  \n",
      " |  append(self, object, /)\n",
      " |      Append object to the end of the list.\n",
      " |  \n",
      " |  clear(self, /)\n",
      " |      Remove all items from list.\n",
      " |  \n",
      " |  copy(self, /)\n",
      " |      Return a shallow copy of the list.\n",
      " |  \n",
      " |  count(self, value, /)\n",
      " |      Return number of occurrences of value.\n",
      " |  \n",
      " |  extend(self, iterable, /)\n",
      " |      Extend list by appending elements from the iterable.\n",
      " |  \n",
      " |  index(self, value, start=0, stop=9223372036854775807, /)\n",
      " |      Return first index of value.\n",
      " |      \n",
      " |      Raises ValueError if the value is not present.\n",
      " |  \n",
      " |  insert(self, index, object, /)\n",
      " |      Insert object before index.\n",
      " |  \n",
      " |  pop(self, index=-1, /)\n",
      " |      Remove and return item at index (default last).\n",
      " |      \n",
      " |      Raises IndexError if list is empty or index is out of range.\n",
      " |  \n",
      " |  remove(self, value, /)\n",
      " |      Remove first occurrence of value.\n",
      " |      \n",
      " |      Raises ValueError if the value is not present.\n",
      " |  \n",
      " |  reverse(self, /)\n",
      " |      Reverse *IN PLACE*.\n",
      " |  \n",
      " |  sort(self, /, *, key=None, reverse=False)\n",
      " |      Stable sort *IN PLACE*.\n",
      " |  \n",
      " |  ----------------------------------------------------------------------\n",
      " |  Static methods defined here:\n",
      " |  \n",
      " |  __new__(*args, **kwargs) from builtins.type\n",
      " |      Create and return a new object.  See help(type) for accurate signature.\n",
      " |  \n",
      " |  ----------------------------------------------------------------------\n",
      " |  Data and other attributes defined here:\n",
      " |  \n",
      " |  __hash__ = None\n",
      "\n",
      "time taken 2 min\n"
     ]
    }
   ],
   "source": [
    "#question 2\n",
    "(help('list'))\n",
    "print(\"time taken 2 min\")"
   ]
  },
  {
   "cell_type": "code",
   "execution_count": 2,
   "metadata": {},
   "outputs": [
    {
     "name": "stdout",
     "output_type": "stream",
     "text": [
      "Help on class int in module builtins:\n",
      "\n",
      "class int(object)\n",
      " |  int([x]) -> integer\n",
      " |  int(x, base=10) -> integer\n",
      " |  \n",
      " |  Convert a number or string to an integer, or return 0 if no arguments\n",
      " |  are given.  If x is a number, return x.__int__().  For floating point\n",
      " |  numbers, this truncates towards zero.\n",
      " |  \n",
      " |  If x is not a number or if base is given, then x must be a string,\n",
      " |  bytes, or bytearray instance representing an integer literal in the\n",
      " |  given base.  The literal can be preceded by '+' or '-' and be surrounded\n",
      " |  by whitespace.  The base defaults to 10.  Valid bases are 0 and 2-36.\n",
      " |  Base 0 means to interpret the base from the string as an integer literal.\n",
      " |  >>> int('0b100', base=0)\n",
      " |  4\n",
      " |  \n",
      " |  Methods defined here:\n",
      " |  \n",
      " |  __abs__(self, /)\n",
      " |      abs(self)\n",
      " |  \n",
      " |  __add__(self, value, /)\n",
      " |      Return self+value.\n",
      " |  \n",
      " |  __and__(self, value, /)\n",
      " |      Return self&value.\n",
      " |  \n",
      " |  __bool__(self, /)\n",
      " |      self != 0\n",
      " |  \n",
      " |  __ceil__(...)\n",
      " |      Ceiling of an Integral returns itself.\n",
      " |  \n",
      " |  __divmod__(self, value, /)\n",
      " |      Return divmod(self, value).\n",
      " |  \n",
      " |  __eq__(self, value, /)\n",
      " |      Return self==value.\n",
      " |  \n",
      " |  __float__(self, /)\n",
      " |      float(self)\n",
      " |  \n",
      " |  __floor__(...)\n",
      " |      Flooring an Integral returns itself.\n",
      " |  \n",
      " |  __floordiv__(self, value, /)\n",
      " |      Return self//value.\n",
      " |  \n",
      " |  __format__(self, format_spec, /)\n",
      " |      Default object formatter.\n",
      " |  \n",
      " |  __ge__(self, value, /)\n",
      " |      Return self>=value.\n",
      " |  \n",
      " |  __getattribute__(self, name, /)\n",
      " |      Return getattr(self, name).\n",
      " |  \n",
      " |  __getnewargs__(self, /)\n",
      " |  \n",
      " |  __gt__(self, value, /)\n",
      " |      Return self>value.\n",
      " |  \n",
      " |  __hash__(self, /)\n",
      " |      Return hash(self).\n",
      " |  \n",
      " |  __index__(self, /)\n",
      " |      Return self converted to an integer, if self is suitable for use as an index into a list.\n",
      " |  \n",
      " |  __int__(self, /)\n",
      " |      int(self)\n",
      " |  \n",
      " |  __invert__(self, /)\n",
      " |      ~self\n",
      " |  \n",
      " |  __le__(self, value, /)\n",
      " |      Return self<=value.\n",
      " |  \n",
      " |  __lshift__(self, value, /)\n",
      " |      Return self<<value.\n",
      " |  \n",
      " |  __lt__(self, value, /)\n",
      " |      Return self<value.\n",
      " |  \n",
      " |  __mod__(self, value, /)\n",
      " |      Return self%value.\n",
      " |  \n",
      " |  __mul__(self, value, /)\n",
      " |      Return self*value.\n",
      " |  \n",
      " |  __ne__(self, value, /)\n",
      " |      Return self!=value.\n",
      " |  \n",
      " |  __neg__(self, /)\n",
      " |      -self\n",
      " |  \n",
      " |  __or__(self, value, /)\n",
      " |      Return self|value.\n",
      " |  \n",
      " |  __pos__(self, /)\n",
      " |      +self\n",
      " |  \n",
      " |  __pow__(self, value, mod=None, /)\n",
      " |      Return pow(self, value, mod).\n",
      " |  \n",
      " |  __radd__(self, value, /)\n",
      " |      Return value+self.\n",
      " |  \n",
      " |  __rand__(self, value, /)\n",
      " |      Return value&self.\n",
      " |  \n",
      " |  __rdivmod__(self, value, /)\n",
      " |      Return divmod(value, self).\n",
      " |  \n",
      " |  __repr__(self, /)\n",
      " |      Return repr(self).\n",
      " |  \n",
      " |  __rfloordiv__(self, value, /)\n",
      " |      Return value//self.\n",
      " |  \n",
      " |  __rlshift__(self, value, /)\n",
      " |      Return value<<self.\n",
      " |  \n",
      " |  __rmod__(self, value, /)\n",
      " |      Return value%self.\n",
      " |  \n",
      " |  __rmul__(self, value, /)\n",
      " |      Return value*self.\n",
      " |  \n",
      " |  __ror__(self, value, /)\n",
      " |      Return value|self.\n",
      " |  \n",
      " |  __round__(...)\n",
      " |      Rounding an Integral returns itself.\n",
      " |      Rounding with an ndigits argument also returns an integer.\n",
      " |  \n",
      " |  __rpow__(self, value, mod=None, /)\n",
      " |      Return pow(value, self, mod).\n",
      " |  \n",
      " |  __rrshift__(self, value, /)\n",
      " |      Return value>>self.\n",
      " |  \n",
      " |  __rshift__(self, value, /)\n",
      " |      Return self>>value.\n",
      " |  \n",
      " |  __rsub__(self, value, /)\n",
      " |      Return value-self.\n",
      " |  \n",
      " |  __rtruediv__(self, value, /)\n",
      " |      Return value/self.\n",
      " |  \n",
      " |  __rxor__(self, value, /)\n",
      " |      Return value^self.\n",
      " |  \n",
      " |  __sizeof__(self, /)\n",
      " |      Returns size in memory, in bytes.\n",
      " |  \n",
      " |  __str__(self, /)\n",
      " |      Return str(self).\n",
      " |  \n",
      " |  __sub__(self, value, /)\n",
      " |      Return self-value.\n",
      " |  \n",
      " |  __truediv__(self, value, /)\n",
      " |      Return self/value.\n",
      " |  \n",
      " |  __trunc__(...)\n",
      " |      Truncating an Integral returns itself.\n",
      " |  \n",
      " |  __xor__(self, value, /)\n",
      " |      Return self^value.\n",
      " |  \n",
      " |  bit_length(self, /)\n",
      " |      Number of bits necessary to represent self in binary.\n",
      " |      \n",
      " |      >>> bin(37)\n",
      " |      '0b100101'\n",
      " |      >>> (37).bit_length()\n",
      " |      6\n",
      " |  \n",
      " |  conjugate(...)\n",
      " |      Returns self, the complex conjugate of any int.\n",
      " |  \n",
      " |  to_bytes(self, /, length, byteorder, *, signed=False)\n",
      " |      Return an array of bytes representing an integer.\n",
      " |      \n",
      " |      length\n",
      " |        Length of bytes object to use.  An OverflowError is raised if the\n",
      " |        integer is not representable with the given number of bytes.\n",
      " |      byteorder\n",
      " |        The byte order used to represent the integer.  If byteorder is 'big',\n",
      " |        the most significant byte is at the beginning of the byte array.  If\n",
      " |        byteorder is 'little', the most significant byte is at the end of the\n",
      " |        byte array.  To request the native byte order of the host system, use\n",
      " |        `sys.byteorder' as the byte order value.\n",
      " |      signed\n",
      " |        Determines whether two's complement is used to represent the integer.\n",
      " |        If signed is False and a negative integer is given, an OverflowError\n",
      " |        is raised.\n",
      " |  \n",
      " |  ----------------------------------------------------------------------\n",
      " |  Class methods defined here:\n",
      " |  \n",
      " |  from_bytes(bytes, byteorder, *, signed=False) from builtins.type\n",
      " |      Return the integer represented by the given array of bytes.\n",
      " |      \n",
      " |      bytes\n",
      " |        Holds the array of bytes to convert.  The argument must either\n",
      " |        support the buffer protocol or be an iterable object producing bytes.\n",
      " |        Bytes and bytearray are examples of built-in objects that support the\n",
      " |        buffer protocol.\n",
      " |      byteorder\n",
      " |        The byte order used to represent the integer.  If byteorder is 'big',\n",
      " |        the most significant byte is at the beginning of the byte array.  If\n",
      " |        byteorder is 'little', the most significant byte is at the end of the\n",
      " |        byte array.  To request the native byte order of the host system, use\n",
      " |        `sys.byteorder' as the byte order value.\n",
      " |      signed\n",
      " |        Indicates whether two's complement is used to represent the integer.\n",
      " |  \n",
      " |  ----------------------------------------------------------------------\n",
      " |  Static methods defined here:\n",
      " |  \n",
      " |  __new__(*args, **kwargs) from builtins.type\n",
      " |      Create and return a new object.  See help(type) for accurate signature.\n",
      " |  \n",
      " |  ----------------------------------------------------------------------\n",
      " |  Data descriptors defined here:\n",
      " |  \n",
      " |  denominator\n",
      " |      the denominator of a rational number in lowest terms\n",
      " |  \n",
      " |  imag\n",
      " |      the imaginary part of a complex number\n",
      " |  \n",
      " |  numerator\n",
      " |      the numerator of a rational number in lowest terms\n",
      " |  \n",
      " |  real\n",
      " |      the real part of a complex number\n",
      "\n",
      "time taken 2 min\n"
     ]
    }
   ],
   "source": [
    "(help(int))\n",
    "print(\"time taken 2 min\")"
   ]
  },
  {
   "cell_type": "code",
   "execution_count": 1,
   "metadata": {},
   "outputs": [
    {
     "name": "stdout",
     "output_type": "stream",
     "text": [
      "Help on built-in function sqrt in math:\n",
      "\n",
      "math.sqrt = sqrt(x, /)\n",
      "    Return the square root of x.\n",
      "\n",
      "time taken 2 min\n"
     ]
    }
   ],
   "source": [
    "(help(\"math.sqrt\"))\n",
    "print (\"time taken 2 min\")"
   ]
  },
  {
   "cell_type": "code",
   "execution_count": 4,
   "metadata": {},
   "outputs": [
    {
     "name": "stdout",
     "output_type": "stream",
     "text": [
      "Class definitions\n",
      "*****************\n",
      "\n",
      "A class definition defines a class object (see section The standard\n",
      "type hierarchy):\n",
      "\n",
      "   classdef    ::= [decorators] \"class\" classname [inheritance] \":\" suite\n",
      "   inheritance ::= \"(\" [argument_list] \")\"\n",
      "   classname   ::= identifier\n",
      "\n",
      "A class definition is an executable statement.  The inheritance list\n",
      "usually gives a list of base classes (see Metaclasses for more\n",
      "advanced uses), so each item in the list should evaluate to a class\n",
      "object which allows subclassing.  Classes without an inheritance list\n",
      "inherit, by default, from the base class \"object\"; hence,\n",
      "\n",
      "   class Foo:\n",
      "       pass\n",
      "\n",
      "is equivalent to\n",
      "\n",
      "   class Foo(object):\n",
      "       pass\n",
      "\n",
      "The class’s suite is then executed in a new execution frame (see\n",
      "Naming and binding), using a newly created local namespace and the\n",
      "original global namespace. (Usually, the suite contains mostly\n",
      "function definitions.)  When the class’s suite finishes execution, its\n",
      "execution frame is discarded but its local namespace is saved. [3] A\n",
      "class object is then created using the inheritance list for the base\n",
      "classes and the saved local namespace for the attribute dictionary.\n",
      "The class name is bound to this class object in the original local\n",
      "namespace.\n",
      "\n",
      "The order in which attributes are defined in the class body is\n",
      "preserved in the new class’s \"__dict__\".  Note that this is reliable\n",
      "only right after the class is created and only for classes that were\n",
      "defined using the definition syntax.\n",
      "\n",
      "Class creation can be customized heavily using metaclasses.\n",
      "\n",
      "Classes can also be decorated: just like when decorating functions,\n",
      "\n",
      "   @f1(arg)\n",
      "   @f2\n",
      "   class Foo: pass\n",
      "\n",
      "is roughly equivalent to\n",
      "\n",
      "   class Foo: pass\n",
      "   Foo = f1(arg)(f2(Foo))\n",
      "\n",
      "The evaluation rules for the decorator expressions are the same as for\n",
      "function decorators.  The result is then bound to the class name.\n",
      "\n",
      "**Programmer’s note:** Variables defined in the class definition are\n",
      "class attributes; they are shared by instances.  Instance attributes\n",
      "can be set in a method with \"self.name = value\".  Both class and\n",
      "instance attributes are accessible through the notation “\"self.name\"”,\n",
      "and an instance attribute hides a class attribute with the same name\n",
      "when accessed in this way.  Class attributes can be used as defaults\n",
      "for instance attributes, but using mutable values there can lead to\n",
      "unexpected results.  Descriptors can be used to create instance\n",
      "variables with different implementation details.\n",
      "\n",
      "See also:\n",
      "\n",
      "  **PEP 3115** - Metaclasses in Python 3000\n",
      "     The proposal that changed the declaration of metaclasses to the\n",
      "     current syntax, and the semantics for how classes with\n",
      "     metaclasses are constructed.\n",
      "\n",
      "  **PEP 3129** - Class Decorators\n",
      "     The proposal that added class decorators.  Function and method\n",
      "     decorators were introduced in **PEP 318**.\n",
      "\n",
      "Related help topics: CLASSES, SPECIALMETHODS\n",
      "\n",
      "time taken 2 min\n"
     ]
    }
   ],
   "source": [
    "(help(\"class\"))\n",
    "print (\"time taken 2 min\")"
   ]
  },
  {
   "cell_type": "code",
   "execution_count": 6,
   "metadata": {},
   "outputs": [
    {
     "name": "stdout",
     "output_type": "stream",
     "text": [
      "length of name is :  13\n",
      "time taken 2 min\n"
     ]
    }
   ],
   "source": [
    "#question 3\n",
    "name = (\"alisha hameed\")\n",
    "print(\"length of name is : \",len(name))\n",
    "print(\"time taken 2 min\")"
   ]
  },
  {
   "cell_type": "code",
   "execution_count": 8,
   "metadata": {},
   "outputs": [
    {
     "name": "stdout",
     "output_type": "stream",
     "text": [
      "<class 'str'>\n",
      "<class 'str'>\n",
      "<class 'str'>\n",
      "<class 'str'>\n",
      "<class 'str'>\n",
      "<class 'str'>\n",
      "time taken 10 min\n"
     ]
    }
   ],
   "source": [
    "#question 4\n",
    "name=(\"alisha hameed\")\n",
    "cell_no=(\"03122190077\")\n",
    "email=(\"alishahameed09@gmail.com\")\n",
    "fav_movie=(\"sanam teri qasam\")\n",
    "fav_flower=(\"rose\")\n",
    "date0fbirth=(\"27-june-2001\")\n",
    "print(type(name))\n",
    "print(type(cell_no))\n",
    "print(type(email))\n",
    "print(type(fav_movie))\n",
    "print(type(fav_flower))\n",
    "print(type(date0fbirth))\n",
    "print(\"time taken 10 min\")"
   ]
  },
  {
   "cell_type": "code",
   "execution_count": 9,
   "metadata": {},
   "outputs": [
    {
     "name": "stdout",
     "output_type": "stream",
     "text": [
      "the maximum height above the ground is : 11.20645205595434m\n"
     ]
    }
   ],
   "source": [
    "#question 5\n",
    "# maximum height\n",
    "import math\n",
    "angle_in_degrees=30\n",
    "g=9.8\n",
    "v=15\n",
    "angle=math.sin(30)\n",
    "x=v**2*angle**2\n",
    "y=2*g\n",
    "height=x/y\n",
    "print(\"the maximum height above the ground is : \" + str(height) +\"m\")"
   ]
  },
  {
   "cell_type": "code",
   "execution_count": 10,
   "metadata": {},
   "outputs": [
    {
     "name": "stdout",
     "output_type": "stream",
     "text": [
      "total time in the air is : 3.0245866043659033sec\n"
     ]
    }
   ],
   "source": [
    "#total time\n",
    "import math\n",
    "angle_in_degrees=30\n",
    "v=15\n",
    "g=9.8\n",
    "angle=math.sin(30)\n",
    "a=2*v\n",
    "b=a*angle\n",
    "T=-b/g\n",
    "print(\"total time in the air is : \" + str(T) + \"sec\")"
   ]
  },
  {
   "cell_type": "code",
   "execution_count": 11,
   "metadata": {},
   "outputs": [
    {
     "name": "stdout",
     "output_type": "stream",
     "text": [
      "total distance is : 89.62553686885221m\n"
     ]
    }
   ],
   "source": [
    "#total distance\n",
    "import math\n",
    "angle_in_degrees=30\n",
    "v=15\n",
    "t=3.024\n",
    "g=9.8\n",
    "a=math.sin(30)\n",
    "distance=-(v*t*a-1/2*g*t**2)\n",
    "print(\"total distance is : \" + str(distance) + \"m\")"
   ]
  },
  {
   "cell_type": "code",
   "execution_count": 12,
   "metadata": {},
   "outputs": [
    {
     "name": "stdout",
     "output_type": "stream",
     "text": [
      "velocity at maximum height will be is : -44.45567436139293m/sec\n"
     ]
    }
   ],
   "source": [
    "#velocity at maximum height\n",
    "import math\n",
    "angle_in_degrees=30\n",
    "v=15\n",
    "t=3.024\n",
    "g=9.8\n",
    "a=math.sin(30)\n",
    "V=v*a-g*t\n",
    "print(\"velocity at maximum height will be is : \" + str(V) + \"m/sec\")"
   ]
  },
  {
   "cell_type": "code",
   "execution_count": 13,
   "metadata": {},
   "outputs": [
    {
     "name": "stdout",
     "output_type": "stream",
     "text": [
      "velocity when ball hits the eground is : 29.816207341961707m/sec\n",
      "time taken 20 mins\n"
     ]
    }
   ],
   "source": [
    "#velocity when ball hits the ground\n",
    "from math import sqrt\n",
    "v=15\n",
    "g=9.8\n",
    "h=11.2\n",
    "t=sqrt(2*h/g)\n",
    "vf=v+g*t\n",
    "print(\"velocity when ball hits the eground is : \" + str(vf) + \"m/sec\")\n",
    "print (\"time taken 20 mins\")"
   ]
  },
  {
   "cell_type": "code",
   "execution_count": 5,
   "metadata": {},
   "outputs": [
    {
     "name": "stdout",
     "output_type": "stream",
     "text": [
      "total current across series is :  0.16666666666666666\n",
      "voltage across R1 is :  1.6666666666666665 V\n",
      "voltage across R2 is :  3.333333333333333 V\n",
      "voltage across R3 is :  5.0 V\n",
      "total current across parallel is :  1.8333333333333335\n",
      "current across R1 is :  1.0 amp\n",
      "current across R2 is :  0.5 amp\n",
      "current across R3 is :  0.3333333333333333 amp\n",
      "time taken 20 mins\n"
     ]
    }
   ],
   "source": [
    "#question 7\n",
    "#FOR SERIES COMBINATION\n",
    "R1=10\n",
    "R2=20\n",
    "R3=30\n",
    "V=10\n",
    "Rt=R1+R2+R3\n",
    "I=V/Rt\n",
    "V1=I*R1\n",
    "V2=I*R2\n",
    "V3=I*R3\n",
    "print(\"total current across series is : \",I)\n",
    "print(\"voltage across R1 is : \" ,V1 , \"V\")\n",
    "print(\"voltage across R2 is : \" ,V2 , \"V\")\n",
    "print(\"voltage across R3 is : \" ,V3 , \"V\")\n",
    "#FOR PARALLEL COMBINATION\n",
    "RT=1/(1/R1+1/R2+1/R3)\n",
    "Total_current=V/RT\n",
    "I1=V/R1\n",
    "I2=V/R2\n",
    "I3=V/R3\n",
    "print(\"total current across parallel is : \",Total_current)\n",
    "print(\"current across R1 is : \" , I1 , \"amp\")\n",
    "print(\"current across R2 is : \" , I2 , \"amp\")\n",
    "print(\"current across R3 is : \" , I3 , \"amp\")\n",
    "print(\"time taken 20 mins\")"
   ]
  },
  {
   "cell_type": "code",
   "execution_count": 1,
   "metadata": {},
   "outputs": [
    {
     "name": "stdout",
     "output_type": "stream",
     "text": [
      "gradient of line 1 :  0.3333333333333333\n",
      "y intercept of line 1 :  6.666666666666667\n",
      "equation of line 1 : o.6X -Y + 4.3 =0\n",
      "gradient of line 2 :  1.25\n",
      "y intercept of line 1 :  1.5\n",
      "equation of line 2 is : 1.25x-y+1.5=0\n",
      "at the point f intersection x cordnate is :  -5.636363636363636\n",
      "at the point of intersection y cordinate is :  8.545454545454545\n",
      "time taken 30 min\n"
     ]
    }
   ],
   "source": [
    "#question 8\n",
    "# for line 1\n",
    "X1=1\n",
    "X2=7\n",
    "Y1=7\n",
    "Y2=9\n",
    "a1= (Y2-Y1)/(X2-X1)\n",
    "print(\"gradient of line 1 : \",a1)\n",
    "c2=Y1-a1*X1\n",
    "print(\"y intercept of line 1 : \",c2)\n",
    "print(\"equation of line 1 : o.6X -Y + 4.3 =0\")\n",
    "#FOR LINE 2\n",
    "X3=6\n",
    "X4=2\n",
    "Y3=9\n",
    "Y4=4\n",
    "a2=(Y4-Y3)/(X4-X3)\n",
    "print(\"gradient of line 2 : \" , a2)\n",
    "c3=Y3-a2*X3\n",
    "print(\"y intercept of line 1 : \" , c3)\n",
    "print(\"equation of line 2 is : 1.25x-y+1.5=0\")\n",
    "x_intercept=(c3-c2)/(a2-a1)\n",
    "y_intercept=(c2*a2-c3*a1)/(a2-a1)\n",
    "print (\"at the point f intersection x cordnate is : \" , x_intercept)\n",
    "print (\"at the point of intersection y cordinate is : \" , y_intercept)\n",
    "print(\"time taken 30 min\")\n",
    "    \n"
   ]
  },
  {
   "cell_type": "code",
   "execution_count": 7,
   "metadata": {},
   "outputs": [
    {
     "name": "stdout",
     "output_type": "stream",
     "text": [
      "angle  135 degree\n",
      "movement :  4.330065619096071 N\n",
      "angle 2 is :  -75 degree\n",
      "resultant force and movement is : 0.9217512697247493 m/sec\n",
      "time taken 30 mins\n"
     ]
    }
   ],
   "source": [
    "#question 6\n",
    "import math\n",
    "m=5\n",
    "force=10\n",
    "g=9.8\n",
    "n=0.4\n",
    "angle_1=30\n",
    "angle_2=45\n",
    "angle_3=60\n",
    "# for sin and cos\n",
    "angle=angle_1+angle_2+angle_3\n",
    "print(\"angle \",angle, 'degree')\n",
    "# movement\n",
    "f = math.sin(angle)*m*g\n",
    "print(\"movement : \",(f) , \"N\")\n",
    "# for cos\n",
    "angle2=angle_1-angle_2-angle_3\n",
    "print(\"angle 2 is : \" ,angle2, \"degree\")\n",
    "r=math.cos(angle2)\n",
    "a=(r*m*g*n)\n",
    "print(\"resultant force and movement is :\" , (r) , \"m/sec\")\n",
    "print(\"time taken 30 mins\")\n",
    "    "
   ]
  },
  {
   "cell_type": "code",
   "execution_count": 2,
   "metadata": {},
   "outputs": [
    {
     "name": "stdout",
     "output_type": "stream",
     "text": [
      "eggs per dezon is 120 , enter the quantity you want : 3\n",
      "cookies per box is 456 , enter the quantity you want : 6\n",
      "icecream per box is 350 , enter the quantitty you want : 3\n",
      "snacks per packet is 75 , enter the quantity you want : 2\n",
      "rice per packet is 125 , enter the quantity you want : 8\n",
      "salt per packet is 20 , enter the quantity you want : 6\n",
      "mayo per packet is 124 , enter the quantity you want : 5\n",
      "butter per jar is 100 , enter the quantity you want : 4\n",
      "milk per litre is 95 , enter the quantity you want : 3\n",
      "drinks per carton is 250 , enter the quantity you want : 2\n",
      "the total amount will be is : 7221Rs\n",
      "time taken 15 mins\n"
     ]
    }
   ],
   "source": [
    "#question 9\n",
    "eggs=120\n",
    "cookies=456\n",
    "icecream=350\n",
    "snacks=75\n",
    "rice=125\n",
    "salt=20\n",
    "mayo=124\n",
    "butter=100\n",
    "milk=95\n",
    "drinks=250\n",
    "a=eval(input(\"eggs per dezon is 120 , enter the quantity you want : \"))\n",
    "b=eval(input(\"cookies per box is 456 , enter the quantity you want : \"))\n",
    "c=eval(input(\"icecream per box is 350 , enter the quantitty you want : \"))\n",
    "d=eval(input(\"snacks per packet is 75 , enter the quantity you want : \"))\n",
    "e=eval(input(\"rice per packet is 125 , enter the quantity you want : \"))\n",
    "f=eval(input(\"salt per packet is 20 , enter the quantity you want : \"))\n",
    "g=eval(input(\"mayo per packet is 124 , enter the quantity you want : \"))\n",
    "h=eval(input(\"butter per jar is 100 , enter the quantity you want : \"))\n",
    "i=eval(input(\"milk per litre is 95 , enter the quantity you want : \"))\n",
    "j=eval(input(\"drinks per carton is 250 , enter the quantity you want : \"))\n",
    "total =(a*eggs + b*cookies + c*icecream + d*snacks + e*rice + f*salt + g*mayo + h*butter + i*milk + j*drinks)\n",
    "print(\"the total amount will be is : \" + str(total) + \"Rs\")\n",
    "print(\"time taken 15 mins\")"
   ]
  },
  {
   "cell_type": "code",
   "execution_count": 6,
   "metadata": {},
   "outputs": [
    {
     "name": "stdout",
     "output_type": "stream",
     "text": [
      "lenght of shadow casted by 10m 50cm is :  6.000000000000001 m\n",
      "height of pole casted shadow of 5m is :  8.749999999999998 m\n",
      "time taken 10 mins\n"
     ]
    }
   ],
   "source": [
    "#question 10\n",
    "#for shadow\n",
    "height1=5.60\n",
    "length1=3.20\n",
    "height2=10.50\n",
    "y=height2*length1\n",
    "x=y/height1\n",
    "print(\"lenght of shadow casted by 10m 50cm is : \" , (x) , \"m\")\n",
    "#for height\n",
    "length2=5\n",
    "y=height1/length1\n",
    "height3=y*length2\n",
    "print(\"height of pole casted shadow of 5m is : \" , (height3) ,\"m\")\n",
    "print(\"time taken 10 mins\")"
   ]
  },
  {
   "cell_type": "code",
   "execution_count": null,
   "metadata": {},
   "outputs": [],
   "source": []
  }
 ],
 "metadata": {
  "kernelspec": {
   "display_name": "Python 3",
   "language": "python",
   "name": "python3"
  },
  "language_info": {
   "codemirror_mode": {
    "name": "ipython",
    "version": 3
   },
   "file_extension": ".py",
   "mimetype": "text/x-python",
   "name": "python",
   "nbconvert_exporter": "python",
   "pygments_lexer": "ipython3",
   "version": "3.7.3"
  }
 },
 "nbformat": 4,
 "nbformat_minor": 2
}
