{
 "cells": [
  {
   "cell_type": "code",
   "execution_count": 8,
   "metadata": {},
   "outputs": [
    {
     "name": "stdout",
     "output_type": "stream",
     "text": [
      "Area of a rectangle shade is :  63.0794742359625 cm\n"
     ]
    }
   ],
   "source": [
    "# question 1\n",
    "from math import pi,sqrt\n",
    "def area():\n",
    " base = 3\n",
    " radius_of_circle = 1.5\n",
    " height = sqrt(3**2 - 1.5**2)\n",
    " Area_of_triangle = 6 *(1.5 * base * height)\n",
    " Area_of_Circle = pi * radius_of_circle**2\n",
    " Shade = Area_of_triangle-Area_of_Circle\n",
    " print(\"Area of a rectangle shade is : \",Shade,\"cm\" )\n",
    "area()\n",
    "# Time Taken 10 minutes"
   ]
  },
  {
   "cell_type": "code",
   "execution_count": 7,
   "metadata": {},
   "outputs": [
    {
     "name": "stdout",
     "output_type": "stream",
     "text": [
      "Enter the Numbers : 3\n",
      "Enter the Numbers : 5\n",
      "Enter the Numbers : 4\n",
      "Enter the Numbers : 8\n",
      "Enter the Numbers : 6\n",
      "Enter the Numbers : 9\n",
      "Total Sum of Even Number =  20\n"
     ]
    }
   ],
   "source": [
    "# question 4\n",
    "def even():\n",
    "    x =[3,5,4,8,6,9,2]\n",
    "    sum = 0\n",
    "    for i in range(6):\n",
    "        x[i]=int(input(\"Enter the Numbers : \"))\n",
    "    for i in x:\n",
    "        if i%2==0:\n",
    "            sum = sum + i\n",
    "    print(\"Total Sum of Even Number = \",sum)\n",
    "even()\n",
    " # Time Taken 15 minutes\n",
    "    "
   ]
  },
  {
   "cell_type": "code",
   "execution_count": 12,
   "metadata": {},
   "outputs": [
    {
     "name": "stdout",
     "output_type": "stream",
     "text": [
      "Enter The Number :2\n",
      "Enter The Number :4\n",
      "Enter The Number :5\n",
      "Enter The Number :7\n",
      "Enter The Number :1\n",
      "Enter The Number :3\n",
      "[1, 2, 3, 4, 5, 7]\n"
     ]
    }
   ],
   "source": [
    "# question 5\n",
    "def sort():\n",
    "    x = [0,0,0,0,0,0]\n",
    "    sum = 0\n",
    "    for i in range(6):\n",
    "        x[i]=int(input(\"Enter The Number :\"))\n",
    "    x.sort()\n",
    "    print(x)\n",
    "sort() \n",
    "# Time Taken 3 minutes"
   ]
  },
  {
   "cell_type": "code",
   "execution_count": 14,
   "metadata": {},
   "outputs": [
    {
     "name": "stdout",
     "output_type": "stream",
     "text": [
      "Enter Your String : alisha hameed\n",
      " Number of Vowels in your String :  6\n",
      " Number of Constant in your String :  1\n"
     ]
    }
   ],
   "source": [
    "#question 7\n",
    "def count():\n",
    "    no_vowels = 0\n",
    "    no_const = 0\n",
    "    string = input(\"Enter Your String : \")\n",
    "\n",
    "    for i in string:\n",
    "        if i in 'AEIOUaeiou':\n",
    "            no_vowels = no_vowels +1\n",
    "    else:\n",
    "         no_const = no_const + 1\n",
    "    print(\" Number of Vowels in your String : \",no_vowels)\n",
    "    print(\" Number of Constant in your String : \",no_const)\n",
    "count() \n",
    "# Time Taken 5 minutes\n"
   ]
  },
  {
   "cell_type": "code",
   "execution_count": 26,
   "metadata": {},
   "outputs": [
    {
     "name": "stdout",
     "output_type": "stream",
     "text": [
      "even Numbers :  <function even at 0x000002761C01C7B8>\n"
     ]
    },
    {
     "ename": "NameError",
     "evalue": "name 'odd' is not defined",
     "output_type": "error",
     "traceback": [
      "\u001b[1;31m---------------------------------------------------------------------------\u001b[0m",
      "\u001b[1;31mNameError\u001b[0m                                 Traceback (most recent call last)",
      "\u001b[1;32m<ipython-input-26-3102242fc75b>\u001b[0m in \u001b[0;36m<module>\u001b[1;34m\u001b[0m\n\u001b[0;32m     10\u001b[0m         \u001b[0modd\u001b[0m\u001b[1;33m.\u001b[0m\u001b[0mappend\u001b[0m\u001b[1;33m(\u001b[0m\u001b[0mnum\u001b[0m\u001b[1;33m)\u001b[0m\u001b[1;33m\u001b[0m\u001b[1;33m\u001b[0m\u001b[0m\n\u001b[0;32m     11\u001b[0m \u001b[0mprint\u001b[0m\u001b[1;33m(\u001b[0m\u001b[1;34m\"even Numbers : \"\u001b[0m\u001b[1;33m,\u001b[0m\u001b[0meven\u001b[0m\u001b[1;33m)\u001b[0m\u001b[1;33m\u001b[0m\u001b[1;33m\u001b[0m\u001b[0m\n\u001b[1;32m---> 12\u001b[1;33m \u001b[0mprint\u001b[0m\u001b[1;33m(\u001b[0m\u001b[1;34m\"odd Numbers : \"\u001b[0m\u001b[1;33m,\u001b[0m\u001b[0modd\u001b[0m\u001b[1;33m)\u001b[0m\u001b[1;33m\u001b[0m\u001b[1;33m\u001b[0m\u001b[0m\n\u001b[0m\u001b[0;32m     13\u001b[0m \u001b[0meven_odd\u001b[0m\u001b[1;33m(\u001b[0m\u001b[1;33m)\u001b[0m\u001b[1;33m\u001b[0m\u001b[1;33m\u001b[0m\u001b[0m\n\u001b[0;32m     14\u001b[0m \u001b[1;31m# Time Taken 3 minutes\u001b[0m\u001b[1;33m\u001b[0m\u001b[1;33m\u001b[0m\u001b[1;33m\u001b[0m\u001b[0m\n",
      "\u001b[1;31mNameError\u001b[0m: name 'odd' is not defined"
     ]
    }
   ],
   "source": [
    "#question 9\n",
    "def even_odd():\n",
    "    even =[]\n",
    "    odd =[]\n",
    "    for i in range(6):\n",
    "        num = str(input(\"Enter a Number : \"))\n",
    "    if int(num)%2==0:\n",
    "        even.append(num)\n",
    "    else:\n",
    "        odd.append(num)\n",
    "print(\"even Numbers : \",even)\n",
    "print(\"odd Numbers : \",odd)\n",
    "even_odd()  \n",
    "# Time Taken 3 minutes"
   ]
  },
  {
   "cell_type": "code",
   "execution_count": 24,
   "metadata": {},
   "outputs": [
    {
     "name": "stdout",
     "output_type": "stream",
     "text": [
      "Alphabets Used :  7\n",
      "\n",
      "Alphabets not Used : \n",
      "['b', 'c', 'f', 'g', 'j', 'k', 'M', 'n', 'o', 'p', 'q', 'r', 't', 'u', 'v', 'w', 'x', 'y', 'z']\n"
     ]
    }
   ],
   "source": [
    "#question 10\n",
    "def counter(y):\n",
    "    count= 0\n",
    "    x = ['a','b','c','d','e','f','g','h','i','j','k','l','M','n','o','p','q','r','s','t','u','v','w','x','y','z']\n",
    "    y.casefold()\n",
    "    z =['']\n",
    "    for i in y:\n",
    "        if i in x and i not in z:\n",
    "            count = count + 1\n",
    "            c = z.append(i)\n",
    "            x.remove(i)\n",
    "    print(\"Alphabets Used : \" ,count)\n",
    "    print(\"\\nAlphabets not Used : \")\n",
    "    print(x)\n",
    "counter('alisha hameed')\n",
    "# time taken 10 minutes\n"
   ]
  },
  {
   "cell_type": "code",
   "execution_count": null,
   "metadata": {},
   "outputs": [],
   "source": []
  }
 ],
 "metadata": {
  "kernelspec": {
   "display_name": "Python 3",
   "language": "python",
   "name": "python3"
  },
  "language_info": {
   "codemirror_mode": {
    "name": "ipython",
    "version": 3
   },
   "file_extension": ".py",
   "mimetype": "text/x-python",
   "name": "python",
   "nbconvert_exporter": "python",
   "pygments_lexer": "ipython3",
   "version": "3.7.3"
  }
 },
 "nbformat": 4,
 "nbformat_minor": 2
}
